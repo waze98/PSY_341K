{
 "cells": [
  {
   "cell_type": "markdown",
   "id": "81d19d16",
   "metadata": {},
   "source": [
    "   # Ifs, loops, and function homework"
   ]
  },
  {
   "cell_type": "markdown",
   "id": "bd745db6",
   "metadata": {},
   "source": [
    "## 1. A function to reverse a string \n",
    "\n",
    "Write and test a function that reverses a string entered by a user. This function will have one input value (a string) and one output value (also a string).\n",
    "\n",
    "Test your function on, among other things, Napoleon's quote 'able was i ere i saw elba'"
   ]
  },
  {
   "cell_type": "code",
   "execution_count": 9,
   "id": "551a9bcb",
   "metadata": {},
   "outputs": [
    {
     "name": "stdin",
     "output_type": "stream",
     "text": [
      "Please insert a random quote. able was I ere I saw elba\n"
     ]
    },
    {
     "name": "stdout",
     "output_type": "stream",
     "text": [
      "able was I ere I saw elba\n"
     ]
    }
   ],
   "source": [
    "string = input(\"Please insert a random quote.\")\n",
    "separator = \"\"\n",
    "backwards_string = []\n",
    "\n",
    "for i in reversed(string):    \n",
    "    backwards_string.append(i) \n",
    "\n",
    "backwards_string = separator.join(backwards_string) \n",
    "print(backwards_string) "
   ]
  },
  {
   "cell_type": "markdown",
   "id": "72bc6f2e",
   "metadata": {},
   "source": [
    "*Optional challenge*: run the above on \"race car\" and then fix the resulting string."
   ]
  },
  {
   "cell_type": "code",
   "execution_count": 11,
   "id": "7abd516b",
   "metadata": {},
   "outputs": [
    {
     "name": "stdout",
     "output_type": "stream",
     "text": [
      "Reversed: rac ecar\n",
      "Original: race car\n"
     ]
    }
   ],
   "source": [
    "string = \"race car\"\n",
    "separator = \"\"\n",
    "backwards_string = []\n",
    "\n",
    "for i in reversed(string) :    \n",
    "    backwards_string.append(i) \n",
    "\n",
    "backwards_string = separator.join(backwards_string) \n",
    "print(\"Reversed:\", backwards_string)\n",
    "\n",
    "original_string = separator.join(reversed(backwards_string))\n",
    "print(\"Original:\", original_string) "
   ]
  },
  {
   "cell_type": "markdown",
   "id": "f351711e",
   "metadata": {},
   "source": [
    "## 2. Determine if a number is prime\n",
    "\n",
    "Write some code to test whether a number is prime or not, a prime number being an integer that is evenly divisible only by 1 and itself. \n",
    "\n",
    "Hint: another way to think about a prime number is that, if the smallest number (other than 1) that divides evenly into a number *is* that number, than the number is a prime.\n",
    "\n",
    "The easiest solution involves one `while` loop and one `if` test."
   ]
  },
  {
   "cell_type": "code",
   "execution_count": 1,
   "id": "4bef5c5c",
   "metadata": {},
   "outputs": [
    {
     "name": "stdin",
     "output_type": "stream",
     "text": [
      "Enter a number to check if it's prime:  19\n"
     ]
    },
    {
     "name": "stdout",
     "output_type": "stream",
     "text": [
      "19 is a prime number.\n"
     ]
    }
   ],
   "source": [
    "user_number = int(input(\"Enter a number to check if it's prime: \"))\n",
    "\n",
    "if user_number <= 1:\n",
    "    print(f\"{user_number} is not a prime number.\")\n",
    "else:\n",
    "    divisor = 2\n",
    "    \n",
    "    while divisor * divisor <= user_number:\n",
    "        if user_number % divisor == 0:\n",
    "            print(f\"{user_number} is not a prime number.\")\n",
    "            break\n",
    "        divisor += 1\n",
    "    else:\n",
    "        print(f\"{user_number} is a prime number.\")       "
   ]
  },
  {
   "cell_type": "markdown",
   "id": "97515edc",
   "metadata": {},
   "source": [
    "## 3. Find the first 10 primes\n",
    "\n",
    "Extend your code above to find the first 10 prime numbers. This will involve wrapping your existing code in another \"outer\" loop.\n"
   ]
  },
  {
   "cell_type": "code",
   "execution_count": 3,
   "id": "f518030e",
   "metadata": {},
   "outputs": [
    {
     "name": "stdout",
     "output_type": "stream",
     "text": [
      "2 is a prime number.\n",
      "3 is a prime number.\n",
      "5 is a prime number.\n",
      "7 is a prime number.\n",
      "11 is a prime number.\n",
      "13 is a prime number.\n",
      "17 is a prime number.\n",
      "19 is a prime number.\n",
      "23 is a prime number.\n",
      "29 is a prime number.\n"
     ]
    }
   ],
   "source": [
    "count_primes = 0\n",
    "current_number = 2\n",
    "\n",
    "while count_primes < 10:\n",
    "    user_number = current_number\n",
    "    divisor = 2\n",
    "    \n",
    "    while divisor * divisor <= user_number:\n",
    "        if user_number % divisor == 0:\n",
    "            break\n",
    "        divisor += 1\n",
    "    else:\n",
    "        print(f\"{user_number} is a prime number.\")\n",
    "        count_primes += 1\n",
    "    \n",
    "    current_number += 1"
   ]
  },
  {
   "cell_type": "markdown",
   "id": "13c2c9d2",
   "metadata": {},
   "source": [
    "## 4. Make a function to compute the first n primes\n",
    "\n",
    "Functionalize (is that a word?) your above code. A user should be able to call your code with one integer argument and get a list back containing that number of primes. Make sure your function handles inputs of an incorrect type gracefully. You should also warn the user if they enter a really big number (which could take a long time...), and give them the option of either bailing or entering a different number."
   ]
  },
  {
   "cell_type": "code",
   "execution_count": 111,
   "id": "a46aae05-e8f0-4c3e-8192-6718a1147443",
   "metadata": {},
   "outputs": [
    {
     "name": "stdin",
     "output_type": "stream",
     "text": [
      "Enter the number of primes you want to compute:  100\n",
      "Warning: Entering a large number of primes may take a long time. Do you want to continue (c), enter a different number (d), or abort (a)?  c\n"
     ]
    },
    {
     "name": "stdout",
     "output_type": "stream",
     "text": [
      "The first 100 prime numbers are: [2, 3, 5, 7, 11, 13, 17, 19, 23, 29, 31, 37, 41, 43, 47, 53, 59, 61, 67, 71, 73, 79, 83, 89, 97, 101, 103, 107, 109, 113, 127, 131, 137, 139, 149, 151, 157, 163, 167, 173, 179, 181, 191, 193, 197, 199, 211, 223, 227, 229, 233, 239, 241, 251, 257, 263, 269, 271, 277, 281, 283, 293, 307, 311, 313, 317, 331, 337, 347, 349, 353, 359, 367, 373, 379, 383, 389, 397, 401, 409, 419, 421, 431, 433, 439, 443, 449, 457, 461, 463, 467, 479, 487, 491, 499, 503, 509, 521, 523, 541]\n"
     ]
    }
   ],
   "source": [
    "def compute_primes(n):\n",
    "    primes = []\n",
    "    current_number = 2\n",
    "    operation_aborted = False  # Flag to track if the operation is aborted\n",
    "\n",
    "    try:\n",
    "        n = int(n)\n",
    "        if n <= 0:\n",
    "            print(\"Please enter a positive integer.\")\n",
    "            return primes\n",
    "    except ValueError:\n",
    "        print(\"Invalid input. Please enter a valid positive integer.\")\n",
    "        return primes\n",
    "\n",
    "    count_primes = 0\n",
    "    \n",
    "    while count_primes < n:\n",
    "        user_number = current_number\n",
    "        divisor = 2\n",
    "        while divisor * divisor <= user_number:\n",
    "            if user_number % divisor == 0:\n",
    "                break\n",
    "            divisor += 1\n",
    "        else:\n",
    "            primes.append(user_number)\n",
    "            count_primes += 1\n",
    "\n",
    "        current_number += 1\n",
    "        \n",
    "        if n >= 100 and count_primes == 100:\n",
    "            user_input = input(\"Warning: Entering a large number of primes may take a long time. Do you want to continue (c), enter a different number (d), or abort (a)? \")\n",
    "            \n",
    "            if user_input.lower() == 'd':\n",
    "                new_input = input(\"Enter a different positive integer: \")\n",
    "                try:\n",
    "                    n = int(new_input)\n",
    "                    if n <= 0:\n",
    "                        print(\"Please enter a positive integer.\")\n",
    "                    current_number = 2\n",
    "                    primes = []\n",
    "                    count_primes = 0\n",
    "                except ValueError:\n",
    "                    print(\"Invalid input. Please enter a valid positive integer.\")\n",
    "                \n",
    "            elif user_input.lower() == 'a':\n",
    "                print(\"Operation aborted.\")\n",
    "                operation_aborted = True\n",
    "                break  # exit the loop when aborted\n",
    "            \n",
    "            elif user_input.lower() == 'c':\n",
    "                if n >= 100 and n >= len(primes):\n",
    "                    print(f\"The first {len(primes)} prime numbers are: {primes}\")\n",
    "                    break\n",
    "\n",
    "    if not operation_aborted and n < 100:\n",
    "        print(f\"The first {len(primes)} prime numbers are: {primes[:n]}\")\n",
    "\n",
    "    return primes\n",
    "\n",
    "# implementation\n",
    "user_input = input(\"Enter the number of primes you want to compute: \")\n",
    "result = compute_primes(user_input)\n",
    "\n",
    "if result and len(result) < int(user_input):\n",
    "    print(f\"The first {len(result)} prime numbers are: {result}\")\n",
    "\n"
   ]
  }
 ],
 "metadata": {
  "kernelspec": {
   "display_name": "Python 3 (ipykernel)",
   "language": "python",
   "name": "python3"
  },
  "language_info": {
   "codemirror_mode": {
    "name": "ipython",
    "version": 3
   },
   "file_extension": ".py",
   "mimetype": "text/x-python",
   "name": "python",
   "nbconvert_exporter": "python",
   "pygments_lexer": "ipython3",
   "version": "3.9.13"
  }
 },
 "nbformat": 4,
 "nbformat_minor": 5
}
