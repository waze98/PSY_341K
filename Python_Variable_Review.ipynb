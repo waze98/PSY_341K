{
 "cells": [
  {
   "cell_type": "markdown",
   "id": "554e23f6",
   "metadata": {},
   "source": [
    "# Python Variable Review"
   ]
  },
  {
   "cell_type": "markdown",
   "id": "d19cc3db",
   "metadata": {},
   "source": [
    "In this notebook, some of the code cells are blank and are for you to enter code. Others already have code in them. Make sure you run these as you go, even if it doesn't explicitly say to do so."
   ]
  },
  {
   "cell_type": "markdown",
   "id": "c05f3087",
   "metadata": {},
   "source": [
    "## Everything is an object"
   ]
  },
  {
   "cell_type": "markdown",
   "id": "22d7ce46",
   "metadata": {},
   "source": [
    "### Objects in Python"
   ]
  },
  {
   "cell_type": "markdown",
   "id": "28e62b19",
   "metadata": {},
   "source": [
    "In Python, everything is an object. An object is a single unique unit of information that occupies a chunk of computer memory (the amount of memory depends on the object). \n",
    "\n",
    "Objects are generally created by assigning them a name. Like this:"
   ]
  },
  {
   "cell_type": "code",
   "execution_count": 2,
   "id": "93a7ee0b",
   "metadata": {},
   "outputs": [],
   "source": [
    "anObject = 42"
   ]
  },
  {
   "cell_type": "markdown",
   "id": "e1be4c86",
   "metadata": {},
   "source": [
    "After you run this cell (run it now!), there is an object in memory that has the name `anOject` assigned to it and the object's value 42.\n",
    "\n",
    "Objects are like fancy museum display cases. Think about the display case of, for example, the U.S. Declaration of Independence. It has the area beneath clear glass that displays the document itself, but there are also all kinds of fancy bits to it, like lights and sensors and stuff.\n",
    "\n",
    "Our object's value, 42, is the thing (the noun) that is \"on display\", which we can see by typing a name currently assigned to it. Type `anObject` in the cell below and run the cell."
   ]
  },
  {
   "cell_type": "code",
   "execution_count": 3,
   "id": "1a0928b1",
   "metadata": {},
   "outputs": [
    {
     "data": {
      "text/plain": [
       "42"
      ]
     },
     "execution_count": 3,
     "metadata": {},
     "output_type": "execute_result"
    }
   ],
   "source": [
    "anObject"
   ]
  },
  {
   "cell_type": "markdown",
   "id": "c5e83879",
   "metadata": {},
   "source": [
    "The object comes with other built-in nouns and even some verbs too. One of the most fundamental *properties* (nouns) of an object is its *type*. We can get the the type with the `type()` function, which takes one argument, the name of the object. Use the `type()` to get the type of our object in the cell below."
   ]
  },
  {
   "cell_type": "code",
   "execution_count": 5,
   "id": "36dff63c",
   "metadata": {},
   "outputs": [
    {
     "data": {
      "text/plain": [
       "int"
      ]
     },
     "execution_count": 5,
     "metadata": {},
     "output_type": "execute_result"
    }
   ],
   "source": [
    "type(anObject)"
   ]
  },
  {
   "cell_type": "markdown",
   "id": "b875bcae",
   "metadata": {},
   "source": [
    "The verbs are accessed by using a period (`.`) after the objects current name and then typing the verb. One of the verbs is getting the bit length – how many \"bits\" (a contraction of BInary digITS coined by John Tukey) it takes to represent the value in binary notation. Lets, see, for 42... 2, 4, 8, 16, 32, 64, and done! So it should take 6 bits to represent 42 in binary. Let's see using the *method* (verb) `bit_length()`:"
   ]
  },
  {
   "cell_type": "code",
   "execution_count": 6,
   "id": "f0fe74d1",
   "metadata": {},
   "outputs": [
    {
     "data": {
      "text/plain": [
       "6"
      ]
     },
     "execution_count": 6,
     "metadata": {},
     "output_type": "execute_result"
    }
   ],
   "source": [
    "anObject.bit_length()"
   ]
  },
  {
   "cell_type": "markdown",
   "id": "d5b668d5",
   "metadata": {},
   "source": [
    "Were we right? Try some other numbers!"
   ]
  },
  {
   "cell_type": "markdown",
   "id": "098fecb3",
   "metadata": {},
   "source": [
    "### Objects and Names"
   ]
  },
  {
   "cell_type": "markdown",
   "id": "4d087bf6",
   "metadata": {},
   "source": [
    "Objects and their names are not the same! Notice that above we said \"... *a* name currently assigned...\" and \"... the object's current name...\" A single object can have more than one name."
   ]
  },
  {
   "cell_type": "code",
   "execution_count": 7,
   "id": "be6a6827",
   "metadata": {},
   "outputs": [],
   "source": [
    "notAnotherObject = 42"
   ]
  },
  {
   "cell_type": "markdown",
   "id": "5683d151",
   "metadata": {},
   "source": [
    "Running that cell does *not* create a second object containing 42. Rather, the \"42\" object that already exists in memory is simply assigned a second name! \n",
    "\n",
    "Another *property* (noun) that all objects have is a unique identification number. The ID number is independent of any names that may be assigned to the object! \n",
    "\n",
    "Python has an `id()` function that we can use this to see what names are referring to what objects. Like `type()`, it takes one argument, a name of an object. Try it to get the id number of `anObject`."
   ]
  },
  {
   "cell_type": "code",
   "execution_count": 8,
   "id": "c2b2d5c2",
   "metadata": {},
   "outputs": [
    {
     "data": {
      "text/plain": [
       "2730794380880"
      ]
     },
     "execution_count": 8,
     "metadata": {},
     "output_type": "execute_result"
    }
   ],
   "source": [
    "id(anObject)"
   ]
  },
  {
   "cell_type": "markdown",
   "id": "26ef4485",
   "metadata": {},
   "source": [
    "Now use it get the id number of `notAnotherObject`."
   ]
  },
  {
   "cell_type": "code",
   "execution_count": 9,
   "id": "c11e05c7",
   "metadata": {},
   "outputs": [
    {
     "data": {
      "text/plain": [
       "2730794380880"
      ]
     },
     "execution_count": 9,
     "metadata": {},
     "output_type": "execute_result"
    }
   ],
   "source": [
    "id(notAnotherObject)"
   ]
  },
  {
   "cell_type": "markdown",
   "id": "bfebb09b",
   "metadata": {},
   "source": [
    "See? The two names refer to the same object, which saves on memory!"
   ]
  },
  {
   "cell_type": "markdown",
   "id": "8f77389c",
   "metadata": {},
   "source": [
    "If we do something like this:"
   ]
  },
  {
   "cell_type": "code",
   "execution_count": 10,
   "id": "6f1583a0",
   "metadata": {},
   "outputs": [],
   "source": [
    "anObject = 11"
   ]
  },
  {
   "cell_type": "markdown",
   "id": "2fefa424",
   "metadata": {},
   "source": [
    "Now an new object storing the value 11 *has* been created, and the name \"anObject\" now goes to 11. Let's check the id numbers of our two names now, and warm up our `print()` muscles while doing so!"
   ]
  },
  {
   "cell_type": "code",
   "execution_count": 11,
   "id": "f8fcc770",
   "metadata": {},
   "outputs": [
    {
     "name": "stdout",
     "output_type": "stream",
     "text": [
      "The ids are 2730794379888 for anObject and 2730794380880 for notAnotherObject\n"
     ]
    }
   ],
   "source": [
    "print(f\"The ids are {id(anObject)} for anObject \\\n",
    "and {id(notAnotherObject)} for notAnotherObject\")"
   ]
  },
  {
   "cell_type": "markdown",
   "id": "d5e11148",
   "metadata": {},
   "source": [
    "---"
   ]
  },
  {
   "cell_type": "markdown",
   "id": "127b1949",
   "metadata": {},
   "source": [
    "#### Aside"
   ]
  },
  {
   "cell_type": "markdown",
   "id": "2397ee88",
   "metadata": {},
   "source": [
    "`print()` is awesome - it is useful for quick & dirty debugging"
   ]
  },
  {
   "cell_type": "markdown",
   "id": "0c067cb8",
   "metadata": {},
   "source": [
    "\"f-strings\" are also awesome, and relatively new to Python. You make an f-string just like a string, except you put an \"f\" in front of the opening quote mark.\n",
    "\n",
    "An f-string lets you directly enclose an expression (like `id(anObject`) in the string enclosed in curly braces, and python will compute the expression, convert it to a string, and pop it right into the f-string!\n",
    "\n",
    "The backslash (\"\\\"), called the \"line continuation character\" in this context, tells Python that you want to continue the current line on the next line. You generally do *not* need to use it inside `lists` and such, but you do need it above.\n",
    "\n",
    "Try running the `print()` above without the `\\`."
   ]
  },
  {
   "cell_type": "markdown",
   "id": "65ed15d7",
   "metadata": {},
   "source": [
    "Now lets make a list (see below), but with each list element on a new line:"
   ]
  },
  {
   "cell_type": "code",
   "execution_count": 12,
   "id": "85ecfe21",
   "metadata": {},
   "outputs": [
    {
     "data": {
      "text/plain": [
       "[1, 3, 5]"
      ]
     },
     "execution_count": 12,
     "metadata": {},
     "output_type": "execute_result"
    }
   ],
   "source": [
    "aList = [1,\n",
    "        3, \n",
    "        5]\n",
    "aList"
   ]
  },
  {
   "cell_type": "markdown",
   "id": "6f195176",
   "metadata": {},
   "source": [
    "No \"\\\" needed!"
   ]
  },
  {
   "cell_type": "markdown",
   "id": "66371c16",
   "metadata": {},
   "source": [
    "---"
   ]
  },
  {
   "cell_type": "markdown",
   "id": "13a0223f",
   "metadata": {},
   "source": [
    "Let's make a new variable \"eleven\" holding the value 11:"
   ]
  },
  {
   "cell_type": "code",
   "execution_count": 13,
   "id": "bfcbec6e",
   "metadata": {},
   "outputs": [],
   "source": [
    "eleven = 11"
   ]
  },
  {
   "cell_type": "code",
   "execution_count": 14,
   "id": "924ca092",
   "metadata": {},
   "outputs": [
    {
     "name": "stdout",
     "output_type": "stream",
     "text": [
      "Variable           Type    Data/Info\n",
      "------------------------------------\n",
      "aList              list    n=3\n",
      "anObject           int     11\n",
      "eleven             int     11\n",
      "notAnotherObject   int     42\n"
     ]
    }
   ],
   "source": [
    "whos"
   ]
  },
  {
   "cell_type": "markdown",
   "id": "70aabe1a",
   "metadata": {},
   "source": [
    "We have now created a few variables in this Python session, so...\n",
    "**Quick quiz!**\n",
    "\n",
    "How many names do we currently have?\n",
    "\n",
    "How many unique objects do we currently have?"
   ]
  },
  {
   "cell_type": "markdown",
   "id": "a5fff25c-6125-4cd6-866a-08abc78c41ce",
   "metadata": {},
   "source": [
    "_There are 3 names: aList, anObject (eleven), and notAnotherObject._\n",
    "\n",
    "_There are 2 unique objects: anObject (eleven), notAnotherObject._"
   ]
  },
  {
   "cell_type": "markdown",
   "id": "f368aa43",
   "metadata": {},
   "source": [
    "## Data Types"
   ]
  },
  {
   "cell_type": "markdown",
   "id": "7fbaab9c",
   "metadata": {},
   "source": [
    "As we've seen objects in Python have a type (that describes themselves, not the kind of other objects they are attracted to). Later on, we'll learn that we can create our very own custom types but, for now, let's take a look at the common built-in data types.\n",
    "\n",
    "Remember that all objects you create by naming them will have both *attributes* or *properties* (their nouns) and *methods* (their verbs), but the particular nouns and verbs they have will depend on their type.\n",
    "\n",
    "Obviously, one thing that varies with type is literally type.\n",
    "\n",
    "There is a function corresponding to each data type that converts its argument to that data type. The function name is the same as the type as returned by `type()`. Thus, from the \"int\" from above tells us that there is a function `int()` that will convert things to integers if it can."
   ]
  },
  {
   "cell_type": "markdown",
   "id": "756ec323",
   "metadata": {},
   "source": [
    "### Booleans (bool)"
   ]
  },
  {
   "cell_type": "markdown",
   "id": "735614be",
   "metadata": {},
   "source": [
    "A Boolean variable (named for the mathematician and logician George Boole) can only have the values True and False. "
   ]
  },
  {
   "cell_type": "code",
   "execution_count": 15,
   "id": "f34acb26",
   "metadata": {},
   "outputs": [],
   "source": [
    "aBool = True"
   ]
  },
  {
   "cell_type": "code",
   "execution_count": 16,
   "id": "02f8f043",
   "metadata": {},
   "outputs": [],
   "source": [
    "anotherBool = False"
   ]
  },
  {
   "cell_type": "markdown",
   "id": "fde7d5ac",
   "metadata": {},
   "source": [
    "Check the type of these variables."
   ]
  },
  {
   "cell_type": "code",
   "execution_count": 17,
   "id": "1438b6d6",
   "metadata": {},
   "outputs": [
    {
     "name": "stdout",
     "output_type": "stream",
     "text": [
      "<class 'bool'>\n",
      "<class 'bool'>\n"
     ]
    }
   ],
   "source": [
    "print(type(aBool))\n",
    "print(type(anotherBool))"
   ]
  },
  {
   "cell_type": "markdown",
   "id": "9a6da1d7",
   "metadata": {},
   "source": [
    "Note that this also tells us that there is a `bool()` function that will convert things to Boolean."
   ]
  },
  {
   "cell_type": "markdown",
   "id": "1bc76c1d",
   "metadata": {},
   "source": [
    "In the cell below, create several Boolean variable, some True, some False."
   ]
  },
  {
   "cell_type": "code",
   "execution_count": 20,
   "id": "487ef3aa",
   "metadata": {},
   "outputs": [],
   "source": [
    "apple = True\n",
    "bees = False\n",
    "whale = True\n",
    "pencil = False"
   ]
  },
  {
   "cell_type": "markdown",
   "id": "2d9b7b0d",
   "metadata": {},
   "source": [
    "Now, in the next code cell, examine the id numbers of the objects corresponding to your names."
   ]
  },
  {
   "cell_type": "code",
   "execution_count": 22,
   "id": "303c20c1",
   "metadata": {},
   "outputs": [
    {
     "name": "stdout",
     "output_type": "stream",
     "text": [
      "apple 140710367918184\n",
      "bees 140710367918216\n",
      "whale 140710367918184\n",
      "pencil 140710367918216\n"
     ]
    }
   ],
   "source": [
    "print(\"apple\", id(apple))\n",
    "print(\"bees\", id(bees))\n",
    "print(\"whale\", id(whale))\n",
    "print(\"pencil\", id(pencil))"
   ]
  },
  {
   "cell_type": "markdown",
   "id": "881acd2c",
   "metadata": {},
   "source": [
    " *In this markdown cell , describe what's going on here in your own words. What's going on with your Boolean variables/objects?*"
   ]
  },
  {
   "cell_type": "markdown",
   "id": "54244fcb",
   "metadata": {},
   "source": [
    "_Every variable assigned to True has an id ending with 184. However, variables assigned to False have an id ending with 216._"
   ]
  },
  {
   "cell_type": "markdown",
   "id": "5c8497f9",
   "metadata": {},
   "source": [
    "Booleans values map to the values of other variables and vice versa. Let's explore this with the two conversion function `int()` and `bool()`.\n",
    "\n",
    "In the cell below, convert to two possible Boolean values to integers, and convert both zero and some positive and negative non-zero values to Boolean."
   ]
  },
  {
   "cell_type": "code",
   "execution_count": 31,
   "id": "969f80ef",
   "metadata": {},
   "outputs": [
    {
     "name": "stdout",
     "output_type": "stream",
     "text": [
      "True: 1\n",
      "False: 0\n",
      "\n",
      "zero to bool: False\n",
      "(+) non-zero value to bool: True\n",
      "(+) non-zero value to bool: True\n"
     ]
    }
   ],
   "source": [
    "# bool to int\n",
    "bool_to_int_1 = int(True)\n",
    "bool_to_int_2 = int(False)\n",
    "\n",
    "print('True:', bool_to_int_1)\n",
    "print('False:', bool_to_int_2)\n",
    "\n",
    "# convert zero and non-zero ints to bool\n",
    "zero_to_bool = bool(0) \n",
    "positive_to_bool = bool(42)  \n",
    "negative_to_bool = bool(-10)  \n",
    "\n",
    "print('\\nzero to bool:', zero_to_bool)\n",
    "print('(+) non-zero value to bool:', positive_to_bool)\n",
    "print('(+) non-zero value to bool:', negative_to_bool)"
   ]
  },
  {
   "cell_type": "markdown",
   "id": "5110a482",
   "metadata": {},
   "source": [
    "*In this cell, describe the mapping of Booleans to integers and vice versa.*"
   ]
  },
  {
   "cell_type": "markdown",
   "id": "6d0e2f0d",
   "metadata": {},
   "source": [
    "We actually use Boolean values and Boolean logic quite a bit in programming. And, of course, all information on computers is ultimately in the form of bits, so all computers are ultimately Boolean processing machines."
   ]
  },
  {
   "cell_type": "markdown",
   "id": "885e0c96",
   "metadata": {},
   "source": [
    "### Integers (int)"
   ]
  },
  {
   "cell_type": "markdown",
   "id": "078ca7e7",
   "metadata": {},
   "source": [
    "Integers are all the numbers without a fractional component which, in practice, means all numbers without a decimal point. As we saw above, creating a variable using an integer automatically creates an object of type `int`."
   ]
  },
  {
   "cell_type": "markdown",
   "id": "afa77014",
   "metadata": {},
   "source": [
    "Create another integer variable now in the cell below and check it's type."
   ]
  },
  {
   "cell_type": "code",
   "execution_count": 32,
   "id": "9bf728e3",
   "metadata": {},
   "outputs": [
    {
     "data": {
      "text/plain": [
       "int"
      ]
     },
     "execution_count": 32,
     "metadata": {},
     "output_type": "execute_result"
    }
   ],
   "source": [
    "integer = 156\n",
    "type(integer)"
   ]
  },
  {
   "cell_type": "markdown",
   "id": "9127f0ec",
   "metadata": {},
   "source": [
    "Now create another variable with the same value, except put a \".00\" after it. So if you integer above was 3, make this new variable equal to 3.00."
   ]
  },
  {
   "cell_type": "code",
   "execution_count": 34,
   "id": "90d20e6b",
   "metadata": {},
   "outputs": [],
   "source": [
    "another = 156.00"
   ]
  },
  {
   "cell_type": "markdown",
   "id": "172c00af",
   "metadata": {},
   "source": [
    "Now check the type of your new variable:"
   ]
  },
  {
   "cell_type": "code",
   "execution_count": 35,
   "id": "36066fcd",
   "metadata": {},
   "outputs": [
    {
     "data": {
      "text/plain": [
       "float"
      ]
     },
     "execution_count": 35,
     "metadata": {},
     "output_type": "execute_result"
    }
   ],
   "source": [
    "type(another)"
   ]
  },
  {
   "cell_type": "markdown",
   "id": "631722b7",
   "metadata": {},
   "source": [
    "### Floating Point Numbers (float)"
   ]
  },
  {
   "cell_type": "markdown",
   "id": "a15032b2",
   "metadata": {},
   "source": [
    "Floating point numbers are the computer implementation of the real numbers (remember the good ol' number line from school?). They are so named because, unlike a fixed point number, the decimal place is allowed be anywhere in the number, or \"float\". For example, 1.234, 12.34, and 123.4 are allowed floating point number but, in a fixed point system, only 12.34 would be allowed. In some applications, fixed point numbers have advantages, but we don't have to worry about them, it's just good to know where the name comes from!"
   ]
  },
  {
   "cell_type": "markdown",
   "id": "e4ef794d",
   "metadata": {},
   "source": [
    "Floating point values always have at least 1 digit on either side of the decimal point. Going in other direction, the largest or smallest number you can represent with a `float` (or the largest `int` you can have) is determined by your computer's hardware and operating system."
   ]
  },
  {
   "cell_type": "markdown",
   "id": "8a63520c",
   "metadata": {},
   "source": [
    "### Character Strings (str)"
   ]
  },
  {
   "cell_type": "markdown",
   "id": "bf3bf8c6",
   "metadata": {},
   "source": [
    "Character strings (or just \"strings\") contain \"characters\", which are basically the things that you could possible create with your keyboard. \n",
    "\n",
    "Strings are enclosed in quotes. Run the code cell below, and this notebook will say hello to you."
   ]
  },
  {
   "cell_type": "code",
   "execution_count": 36,
   "id": "3cdaf9c6",
   "metadata": {},
   "outputs": [
    {
     "data": {
      "text/plain": [
       "'Hello!'"
      ]
     },
     "execution_count": 36,
     "metadata": {},
     "output_type": "execute_result"
    }
   ],
   "source": [
    "aStr = \"Hello!\"\n",
    "aStr"
   ]
  },
  {
   "cell_type": "markdown",
   "id": "9d06cd9c",
   "metadata": {},
   "source": [
    "Anything enclosed in quotes is a string, even numbers and operators (like \"+\").\n",
    "\n",
    "Make a variable containing a number (e.g. `e_num = 2.7182`), and make another using the same number in quotation marks (e.g. `e_str = '2.7182'`), and check their types:"
   ]
  },
  {
   "cell_type": "code",
   "execution_count": 38,
   "id": "276c9eaa",
   "metadata": {},
   "outputs": [
    {
     "name": "stdout",
     "output_type": "stream",
     "text": [
      "<class 'float'>\n",
      "<class 'str'>\n"
     ]
    }
   ],
   "source": [
    "e_num = 2.7182\n",
    "e_str = '2.7182'\n",
    "\n",
    "print(type(e_num))\n",
    "print(type(e_str))"
   ]
  },
  {
   "cell_type": "markdown",
   "id": "c1d711a4",
   "metadata": {},
   "source": [
    "Python is string-friendly. Multiple strings can be concatenated just by using the plus sign (\"+\"). "
   ]
  },
  {
   "cell_type": "markdown",
   "id": "baf89349",
   "metadata": {},
   "source": [
    "Add the string to itself (e.g. `e_str + e_str`):"
   ]
  },
  {
   "cell_type": "code",
   "execution_count": 39,
   "id": "32fe357c",
   "metadata": {},
   "outputs": [
    {
     "data": {
      "text/plain": [
       "'2.71822.7182'"
      ]
     },
     "execution_count": 39,
     "metadata": {},
     "output_type": "execute_result"
    }
   ],
   "source": [
    "e_str + e_str "
   ]
  },
  {
   "cell_type": "markdown",
   "id": "0f0ba986",
   "metadata": {},
   "source": [
    "Add the number to itself:"
   ]
  },
  {
   "cell_type": "code",
   "execution_count": 40,
   "id": "ae81dd78",
   "metadata": {},
   "outputs": [
    {
     "data": {
      "text/plain": [
       "5.4364"
      ]
     },
     "execution_count": 40,
     "metadata": {},
     "output_type": "execute_result"
    }
   ],
   "source": [
    "e_num + e_num"
   ]
  },
  {
   "cell_type": "markdown",
   "id": "d898991c",
   "metadata": {},
   "source": [
    "Now try adding the string to the number and vice versa:"
   ]
  },
  {
   "cell_type": "code",
   "execution_count": 44,
   "id": "692dac33",
   "metadata": {},
   "outputs": [
    {
     "ename": "TypeError",
     "evalue": "can only concatenate str (not \"float\") to str",
     "output_type": "error",
     "traceback": [
      "\u001b[1;31m---------------------------------------------------------------------------\u001b[0m",
      "\u001b[1;31mTypeError\u001b[0m                                 Traceback (most recent call last)",
      "Cell \u001b[1;32mIn[44], line 1\u001b[0m\n\u001b[1;32m----> 1\u001b[0m \u001b[38;5;28mprint\u001b[39m(\u001b[43me_str\u001b[49m\u001b[43m \u001b[49m\u001b[38;5;241;43m+\u001b[39;49m\u001b[43m \u001b[49m\u001b[43me_num\u001b[49m)\n\u001b[0;32m      2\u001b[0m \u001b[38;5;28mprint\u001b[39m(e_num \u001b[38;5;241m+\u001b[39m e_str)\n",
      "\u001b[1;31mTypeError\u001b[0m: can only concatenate str (not \"float\") to str"
     ]
    }
   ],
   "source": [
    "print(e_str + e_num)\n",
    "print(e_num + e_str)"
   ]
  },
  {
   "cell_type": "markdown",
   "id": "cf0fadd5",
   "metadata": {},
   "source": [
    "(Note that the errors differ.)"
   ]
  },
  {
   "cell_type": "markdown",
   "id": "a94db163",
   "metadata": {},
   "source": [
    "A string is actually the first object we're talking about here that is actually a collection of other things. This means we can get the individual things via *indexing* using square brackets:"
   ]
  },
  {
   "cell_type": "code",
   "execution_count": 45,
   "id": "92aa597a",
   "metadata": {},
   "outputs": [
    {
     "data": {
      "text/plain": [
       "'H'"
      ]
     },
     "execution_count": 45,
     "metadata": {},
     "output_type": "execute_result"
    }
   ],
   "source": [
    "aStr[0]"
   ]
  },
  {
   "cell_type": "markdown",
   "id": "0feb5fe5",
   "metadata": {},
   "source": [
    "But what are the things? That is, what are the elements of a string in Python? In the code cell below, see what type the `aStr[0]` (the \"H\" in \"Hello!\" is."
   ]
  },
  {
   "cell_type": "code",
   "execution_count": 46,
   "id": "e9432b4e",
   "metadata": {},
   "outputs": [
    {
     "data": {
      "text/plain": [
       "str"
      ]
     },
     "execution_count": 46,
     "metadata": {},
     "output_type": "execute_result"
    }
   ],
   "source": [
    "type(aStr[0])"
   ]
  },
  {
   "cell_type": "markdown",
   "id": "67b4201a",
   "metadata": {},
   "source": [
    "*Use this cell to explain what this tells you about what multi-element strings are.*"
   ]
  },
  {
   "cell_type": "markdown",
   "id": "f9c598b6-3a0f-429a-8cfb-2c78f9dc8ebf",
   "metadata": {},
   "source": [
    "_This tells us that multi-element strings are treated as single units rather than a series of separate characters._"
   ]
  },
  {
   "cell_type": "markdown",
   "id": "ce50b005",
   "metadata": {},
   "source": [
    "### Tuples (tuple)"
   ]
  },
  {
   "cell_type": "markdown",
   "id": "ebf81a43",
   "metadata": {},
   "source": [
    "Tuples are a collection of objects assigned to a single name. Like this:"
   ]
  },
  {
   "cell_type": "code",
   "execution_count": 47,
   "id": "d27b17e1",
   "metadata": {},
   "outputs": [
    {
     "data": {
      "text/plain": [
       "(9, 8, 7)"
      ]
     },
     "execution_count": 47,
     "metadata": {},
     "output_type": "execute_result"
    }
   ],
   "source": [
    "myTup = (9, 8, 7)\n",
    "myTup"
   ]
  },
  {
   "cell_type": "markdown",
   "id": "4665ccfe",
   "metadata": {},
   "source": [
    "You create it with parentheses (that's what tells Python that you are making a tuple)."
   ]
  },
  {
   "cell_type": "markdown",
   "id": "498b5774",
   "metadata": {},
   "source": [
    "In Python, we access the individual items of all multi-element objects using square brackets. Like this:"
   ]
  },
  {
   "cell_type": "code",
   "execution_count": 48,
   "id": "a32f9c6e",
   "metadata": {},
   "outputs": [
    {
     "data": {
      "text/plain": [
       "9"
      ]
     },
     "execution_count": 48,
     "metadata": {},
     "output_type": "execute_result"
    }
   ],
   "source": [
    "myTup[0]"
   ]
  },
  {
   "cell_type": "markdown",
   "id": "419b6ded",
   "metadata": {},
   "source": [
    "Recall that we can get multiple things using the colon:"
   ]
  },
  {
   "cell_type": "code",
   "execution_count": 49,
   "id": "335b55c6",
   "metadata": {},
   "outputs": [
    {
     "data": {
      "text/plain": [
       "(9, 8)"
      ]
     },
     "execution_count": 49,
     "metadata": {},
     "output_type": "execute_result"
    }
   ],
   "source": [
    "myTup[0:2]"
   ]
  },
  {
   "cell_type": "markdown",
   "id": "f69342ee",
   "metadata": {},
   "source": [
    "Tuples can contain objects of different types. Python doesn't care:"
   ]
  },
  {
   "cell_type": "code",
   "execution_count": 50,
   "id": "41cc382c",
   "metadata": {},
   "outputs": [
    {
     "data": {
      "text/plain": [
       "(3, '4', 'five', True)"
      ]
     },
     "execution_count": 50,
     "metadata": {},
     "output_type": "execute_result"
    }
   ],
   "source": [
    "myTup = (3, '4', 'five', True)\n",
    "myTup"
   ]
  },
  {
   "cell_type": "markdown",
   "id": "43cbe45c",
   "metadata": {},
   "source": [
    "One thing you *can't* do is mess with a tuple. Try changing the 3rd value ('five') to 5:"
   ]
  },
  {
   "cell_type": "code",
   "execution_count": 52,
   "id": "fd3e7f76",
   "metadata": {},
   "outputs": [
    {
     "ename": "TypeError",
     "evalue": "'tuple' object does not support item assignment",
     "output_type": "error",
     "traceback": [
      "\u001b[1;31m---------------------------------------------------------------------------\u001b[0m",
      "\u001b[1;31mTypeError\u001b[0m                                 Traceback (most recent call last)",
      "Cell \u001b[1;32mIn[52], line 1\u001b[0m\n\u001b[1;32m----> 1\u001b[0m \u001b[43mmyTup\u001b[49m\u001b[43m[\u001b[49m\u001b[38;5;241;43m2\u001b[39;49m\u001b[43m]\u001b[49m \u001b[38;5;241m=\u001b[39m \u001b[38;5;241m5\u001b[39m\n",
      "\u001b[1;31mTypeError\u001b[0m: 'tuple' object does not support item assignment"
     ]
    }
   ],
   "source": [
    "myTup[2] = 5"
   ]
  },
  {
   "cell_type": "markdown",
   "id": "40c76143",
   "metadata": {},
   "source": [
    "Why would you want to use a tuple if you can't change the values? If you are working with actual data, for example, you *never* want *anyone* changing the values, so perhaps a tuple is in order.\n",
    "\n",
    "Also, for large \"hungry\" applications, tuple are faster and more memory-efficient than lists."
   ]
  },
  {
   "cell_type": "markdown",
   "id": "7ef7b676",
   "metadata": {},
   "source": [
    "### Lists (list)"
   ]
  },
  {
   "cell_type": "markdown",
   "id": "9722eda8",
   "metadata": {},
   "source": [
    "Lists are much like tuples except that we can change the individual elements after the list has been created (as much as we want). Lists are created with square brackets. Like this:"
   ]
  },
  {
   "cell_type": "code",
   "execution_count": 53,
   "id": "c6f2fc72",
   "metadata": {},
   "outputs": [
    {
     "data": {
      "text/plain": [
       "[True, 'Hey', 7, 4.5]"
      ]
     },
     "execution_count": 53,
     "metadata": {},
     "output_type": "execute_result"
    }
   ],
   "source": [
    "myList = [True, 'Hey', 7, 4.5]\n",
    "myList"
   ]
  },
  {
   "cell_type": "markdown",
   "id": "087e6089",
   "metadata": {},
   "source": [
    "Try changing one of these values in the cell below:"
   ]
  },
  {
   "cell_type": "code",
   "execution_count": 56,
   "id": "abee9809",
   "metadata": {},
   "outputs": [
    {
     "data": {
      "text/plain": [
       "[True, 'Hey', 7, False]"
      ]
     },
     "execution_count": 56,
     "metadata": {},
     "output_type": "execute_result"
    }
   ],
   "source": [
    "myList[3] = False\n",
    "myList"
   ]
  },
  {
   "cell_type": "markdown",
   "id": "bfaab6fa",
   "metadata": {},
   "source": [
    "### Dictionaries (dict)"
   ]
  },
  {
   "cell_type": "markdown",
   "id": "50a09721",
   "metadata": {},
   "source": [
    "The most complicated (in some sense) type in Python is the dictionary.\n",
    "\n",
    "Dictionaries are perhaps poorly named, but they are incredibly useful. A real world dictionary is pretty specific; it yields definitions of words and that's it.\n",
    "\n",
    "Python dictionaries are much more general and flexible. They allow you to store many elements of any type of data and let you access the data by name. If you've programmed in another language, dictionaries are essentially the same as structs (structures).\n",
    "\n",
    "Here's a dictionary; notice the curly braces."
   ]
  },
  {
   "cell_type": "code",
   "execution_count": 57,
   "id": "9eb439b8",
   "metadata": {},
   "outputs": [
    {
     "data": {
      "text/plain": [
       "{'name': 'Mary', 'age': 21, 'school': 'UT_Austin', 'gpa': 3.89}"
      ]
     },
     "execution_count": 57,
     "metadata": {},
     "output_type": "execute_result"
    }
   ],
   "source": [
    "myDict = {'name': 'Mary',\n",
    "         'age': 21,\n",
    "         'school': 'UT_Austin',\n",
    "         'gpa': 3.89}\n",
    "\n",
    "myDict"
   ]
  },
  {
   "cell_type": "markdown",
   "id": "a349fb13",
   "metadata": {},
   "source": [
    "Dicts are a nice way to store a variety of information about a single logical entity, in this case a hypothetical student named \"Mary\".\n",
    "\n",
    "Each entry in the dict is a key:value pair. The keys are strings, and the values can be anything.\n",
    "\n",
    "We retrieve the information using the keys. Like this:"
   ]
  },
  {
   "cell_type": "code",
   "execution_count": 58,
   "id": "983c36d8",
   "metadata": {},
   "outputs": [
    {
     "data": {
      "text/plain": [
       "'Mary'"
      ]
     },
     "execution_count": 58,
     "metadata": {},
     "output_type": "execute_result"
    }
   ],
   "source": [
    "myDict['name']"
   ]
  },
  {
   "cell_type": "markdown",
   "id": "02d58f8c",
   "metadata": {},
   "source": [
    "Here's a dict to store hypothetical data from an experiment along with \"metadata\" about the experiment:"
   ]
  },
  {
   "cell_type": "code",
   "execution_count": 60,
   "id": "5214ddf3",
   "metadata": {},
   "outputs": [],
   "source": [
    "expDict = {'date': '10July2023', \n",
    "          'time': '1620CST',\n",
    "          'experimenter': 'FGauss',\n",
    "          'data': [245.3, 232.9, 238.6, 222.2, 250.1]}"
   ]
  },
  {
   "cell_type": "markdown",
   "id": "4ae3e3e7",
   "metadata": {},
   "source": [
    "Notice that one of the elements in the dict is a list! If we grab it, it's just a list like any other:"
   ]
  },
  {
   "cell_type": "code",
   "execution_count": 61,
   "id": "adf58fb1",
   "metadata": {},
   "outputs": [
    {
     "data": {
      "text/plain": [
       "[245.3, 232.9, 238.6, 222.2, 250.1]"
      ]
     },
     "execution_count": 61,
     "metadata": {},
     "output_type": "execute_result"
    }
   ],
   "source": [
    "just_a_list = expDict['data']\n",
    "just_a_list"
   ]
  },
  {
   "cell_type": "markdown",
   "id": "1d8c4cda",
   "metadata": {},
   "source": [
    "The more you hang around Python, the more you realize how useful dicts are. "
   ]
  },
  {
   "cell_type": "markdown",
   "id": "5fc9351e",
   "metadata": {},
   "source": [
    "## Mutability"
   ]
  },
  {
   "cell_type": "markdown",
   "id": "f30adbb2",
   "metadata": {},
   "source": [
    "Each type of Python object can either be mutable, meaning that the object itself can be modified, or immutable, meaning that, once created, the object cannot be changed in any way."
   ]
  },
  {
   "cell_type": "markdown",
   "id": "87185fe7",
   "metadata": {},
   "source": [
    "### Immutable object types"
   ]
  },
  {
   "cell_type": "markdown",
   "id": "14e6537d",
   "metadata": {},
   "source": [
    "The common immutable object types are\n",
    "\n",
    "* bool\n",
    "* int\n",
    "* float\n",
    "* str\n",
    "* tupple"
   ]
  },
  {
   "cell_type": "markdown",
   "id": "73cdbbb2",
   "metadata": {},
   "source": [
    "If you create an immutable object, like a `str`, by running the cell below..."
   ]
  },
  {
   "cell_type": "code",
   "execution_count": 62,
   "id": "820e8485",
   "metadata": {},
   "outputs": [
    {
     "data": {
      "text/plain": [
       "'You cannot change me!'"
      ]
     },
     "execution_count": 62,
     "metadata": {},
     "output_type": "execute_result"
    }
   ],
   "source": [
    "immStr = 'You cannot change me!'\n",
    "immStr"
   ]
  },
  {
   "cell_type": "markdown",
   "id": "8d023abe",
   "metadata": {},
   "source": [
    "You can't change it. Try changing the 3rd element (the element at index 2) to an 'o' to spell 'You' as 'Yoo'."
   ]
  },
  {
   "cell_type": "code",
   "execution_count": 63,
   "id": "17d16c6c",
   "metadata": {},
   "outputs": [
    {
     "ename": "TypeError",
     "evalue": "'str' object does not support item assignment",
     "output_type": "error",
     "traceback": [
      "\u001b[1;31m---------------------------------------------------------------------------\u001b[0m",
      "\u001b[1;31mTypeError\u001b[0m                                 Traceback (most recent call last)",
      "Cell \u001b[1;32mIn[63], line 1\u001b[0m\n\u001b[1;32m----> 1\u001b[0m \u001b[43mimmStr\u001b[49m\u001b[43m[\u001b[49m\u001b[38;5;241;43m2\u001b[39;49m\u001b[43m]\u001b[49m \u001b[38;5;241m=\u001b[39m \u001b[38;5;124m'\u001b[39m\u001b[38;5;124mo\u001b[39m\u001b[38;5;124m'\u001b[39m\n",
      "\u001b[1;31mTypeError\u001b[0m: 'str' object does not support item assignment"
     ]
    }
   ],
   "source": [
    "immStr[2] = 'o'"
   ]
  },
  {
   "cell_type": "markdown",
   "id": "28836588",
   "metadata": {},
   "source": [
    "Consider the following (run the cells in turn):"
   ]
  },
  {
   "cell_type": "code",
   "execution_count": 64,
   "id": "6ce24b22",
   "metadata": {},
   "outputs": [],
   "source": [
    "immStrCopy = immStr"
   ]
  },
  {
   "cell_type": "markdown",
   "id": "040d49d9",
   "metadata": {},
   "source": [
    "`immStrCopy` and `immStr` both now refer to the same object."
   ]
  },
  {
   "cell_type": "code",
   "execution_count": 65,
   "id": "f83c9fc5",
   "metadata": {},
   "outputs": [],
   "source": [
    "immStr = 'You cannot change me either!'"
   ]
  },
  {
   "cell_type": "markdown",
   "id": "6a6db404",
   "metadata": {},
   "source": [
    "`immStr` now refers to a newly created object; `immStrCopy` still points to the original unchanged string."
   ]
  },
  {
   "cell_type": "markdown",
   "id": "57c9b626",
   "metadata": {},
   "source": [
    "Verify this in the code cell below using the values and ID numbers of the two strings."
   ]
  },
  {
   "cell_type": "code",
   "execution_count": 71,
   "id": "91421449",
   "metadata": {},
   "outputs": [
    {
     "name": "stdout",
     "output_type": "stream",
     "text": [
      "immStr ID: 2730901643312\n",
      "immStrCopy ID: 2730901643312\n",
      "immStr after reassignment ID: 2730901484368\n"
     ]
    }
   ],
   "source": [
    "# two strings\n",
    "immStr = 'You cannot change me!'\n",
    "immStrCopy = immStr\n",
    "print(\"immStr ID:\", id(immStr))\n",
    "print(\"immStrCopy ID:\", id(immStrCopy))\n",
    "\n",
    "# reassignment\n",
    "immStr = 'You cannot change me either!'\n",
    "print(\"immStr after reassignment ID:\", id(immStr))"
   ]
  },
  {
   "cell_type": "markdown",
   "id": "e14c8a88",
   "metadata": {},
   "source": [
    "### Mutable objects"
   ]
  },
  {
   "cell_type": "markdown",
   "id": "defa57f9",
   "metadata": {},
   "source": [
    "Mutable objects *can* be changed. This can produce surprising results if you don't appreciate the distinction between mutable and immutable objects.\n",
    "\n",
    "Common mutable objects are lists and dictionaries."
   ]
  },
  {
   "cell_type": "markdown",
   "id": "e3a54490",
   "metadata": {},
   "source": [
    "Consider the following in contrast to the immutable example using strings above."
   ]
  },
  {
   "cell_type": "code",
   "execution_count": 67,
   "id": "6028db0b",
   "metadata": {},
   "outputs": [],
   "source": [
    "mList = ['you', 'can', 'change', 'me']\n",
    "mListCopy = mList"
   ]
  },
  {
   "cell_type": "markdown",
   "id": "a5f0489d",
   "metadata": {},
   "source": [
    "Now change the first (zero index) value of `mList` to 'anyone'. "
   ]
  },
  {
   "cell_type": "code",
   "execution_count": 68,
   "id": "d80d9d6b",
   "metadata": {},
   "outputs": [],
   "source": [
    "mList[0] = 'anyone'"
   ]
  },
  {
   "cell_type": "markdown",
   "id": "8d017d13",
   "metadata": {},
   "source": [
    "Use the code cell below to check the values and ID numbers of `mList` and `mListCopy`"
   ]
  },
  {
   "cell_type": "code",
   "execution_count": 72,
   "id": "4b608e7c",
   "metadata": {},
   "outputs": [
    {
     "name": "stdout",
     "output_type": "stream",
     "text": [
      "ID of mList: 2730900360192\n",
      "ID of MListCopy: 2730900360192\n",
      "ID of immStr after reassignment: 2730900360192\n"
     ]
    }
   ],
   "source": [
    "mList = ['you', 'can', 'change', 'me']\n",
    "mListCopy = mList\n",
    "print(\"ID of mList:\", id(mList))\n",
    "print(\"ID of MListCopy:\", id(mListCopy))\n",
    "\n",
    "mList[0] = 'anyone'\n",
    "print(\"ID of immStr after reassignment:\", id(mList))"
   ]
  },
  {
   "cell_type": "markdown",
   "id": "f2059de6",
   "metadata": {},
   "source": [
    "*Use this cell to explain how this behavior differs from that of immutable objects.*"
   ]
  },
  {
   "cell_type": "markdown",
   "id": "80df87bb-4e16-4238-8095-c3740b4fce49",
   "metadata": {},
   "source": [
    "_Mutable objects (lists) allow direct modification of their elements, while immutable objects (strings), require reassignment to change their values._"
   ]
  },
  {
   "cell_type": "markdown",
   "id": "26a3f0ff",
   "metadata": {},
   "source": [
    "## Inquiring minds want to know"
   ]
  },
  {
   "cell_type": "markdown",
   "id": "52337a2d",
   "metadata": {},
   "source": [
    "There are some functions that allow us to get information about our objects."
   ]
  },
  {
   "cell_type": "markdown",
   "id": "c3107cd2",
   "metadata": {},
   "source": [
    "### dir()"
   ]
  },
  {
   "cell_type": "markdown",
   "id": "917f66cc",
   "metadata": {},
   "source": [
    "The `dir()` (for directory) function give us all the verbs for an object."
   ]
  },
  {
   "cell_type": "markdown",
   "id": "630faf3b",
   "metadata": {},
   "source": [
    "In the code cell below, make a string variable containing your name in all lowercase. Then 'dir' it (e.g. `dir(yourNameVar)`)."
   ]
  },
  {
   "cell_type": "code",
   "execution_count": 74,
   "id": "7eaaf3ec",
   "metadata": {},
   "outputs": [
    {
     "data": {
      "text/plain": [
       "['__add__',\n",
       " '__class__',\n",
       " '__contains__',\n",
       " '__delattr__',\n",
       " '__dir__',\n",
       " '__doc__',\n",
       " '__eq__',\n",
       " '__format__',\n",
       " '__ge__',\n",
       " '__getattribute__',\n",
       " '__getitem__',\n",
       " '__getnewargs__',\n",
       " '__gt__',\n",
       " '__hash__',\n",
       " '__init__',\n",
       " '__init_subclass__',\n",
       " '__iter__',\n",
       " '__le__',\n",
       " '__len__',\n",
       " '__lt__',\n",
       " '__mod__',\n",
       " '__mul__',\n",
       " '__ne__',\n",
       " '__new__',\n",
       " '__reduce__',\n",
       " '__reduce_ex__',\n",
       " '__repr__',\n",
       " '__rmod__',\n",
       " '__rmul__',\n",
       " '__setattr__',\n",
       " '__sizeof__',\n",
       " '__str__',\n",
       " '__subclasshook__',\n",
       " 'capitalize',\n",
       " 'casefold',\n",
       " 'center',\n",
       " 'count',\n",
       " 'encode',\n",
       " 'endswith',\n",
       " 'expandtabs',\n",
       " 'find',\n",
       " 'format',\n",
       " 'format_map',\n",
       " 'index',\n",
       " 'isalnum',\n",
       " 'isalpha',\n",
       " 'isascii',\n",
       " 'isdecimal',\n",
       " 'isdigit',\n",
       " 'isidentifier',\n",
       " 'islower',\n",
       " 'isnumeric',\n",
       " 'isprintable',\n",
       " 'isspace',\n",
       " 'istitle',\n",
       " 'isupper',\n",
       " 'join',\n",
       " 'ljust',\n",
       " 'lower',\n",
       " 'lstrip',\n",
       " 'maketrans',\n",
       " 'partition',\n",
       " 'removeprefix',\n",
       " 'removesuffix',\n",
       " 'replace',\n",
       " 'rfind',\n",
       " 'rindex',\n",
       " 'rjust',\n",
       " 'rpartition',\n",
       " 'rsplit',\n",
       " 'rstrip',\n",
       " 'split',\n",
       " 'splitlines',\n",
       " 'startswith',\n",
       " 'strip',\n",
       " 'swapcase',\n",
       " 'title',\n",
       " 'translate',\n",
       " 'upper',\n",
       " 'zfill']"
      ]
     },
     "execution_count": 74,
     "metadata": {},
     "output_type": "execute_result"
    }
   ],
   "source": [
    "dir('wendy')"
   ]
  },
  {
   "cell_type": "markdown",
   "id": "ad6870b8",
   "metadata": {},
   "source": [
    "Scroll down past all the stuff with double underscores, like `__add__`. The first thing after these should be `capitalize`. Try using this verb using the the dot notation (`object.verb()`)."
   ]
  },
  {
   "cell_type": "code",
   "execution_count": 76,
   "id": "08995946",
   "metadata": {},
   "outputs": [
    {
     "data": {
      "text/plain": [
       "'Wendy'"
      ]
     },
     "execution_count": 76,
     "metadata": {},
     "output_type": "execute_result"
    }
   ],
   "source": [
    "'wendy'.capitalize()"
   ]
  },
  {
   "cell_type": "markdown",
   "id": "d3b53fbd",
   "metadata": {},
   "source": [
    "### %who"
   ]
  },
  {
   "cell_type": "markdown",
   "id": "eceef7f0",
   "metadata": {},
   "source": [
    "Type `who` in the code cell below and run it. (if it doesn't work, try `%who`) "
   ]
  },
  {
   "cell_type": "code",
   "execution_count": 77,
   "id": "71d92d7b",
   "metadata": {},
   "outputs": [
    {
     "name": "stdout",
     "output_type": "stream",
     "text": [
      "aBool\t aList\t aStr\t anObject\t another\t anotherBool\t apple\t bee_num\t bees\t \n",
      "bool_to_int_1\t bool_to_int_2\t e_num\t e_str\t eleven\t expDict\t immStr\t immStrCopy\t integer\t \n",
      "just_a_list\t mList\t mListCopy\t myDict\t myList\t myTup\t negative_to_bool\t notAnotherObject\t pencil\t \n",
      "positive_to_bool\t whale\t zero_to_bool\t \n"
     ]
    }
   ],
   "source": [
    "who"
   ]
  },
  {
   "cell_type": "markdown",
   "id": "18104f5e",
   "metadata": {},
   "source": [
    "*Use this cell to say what `who` does*\n",
    "\n",
    "Displays all the variables currently defined."
   ]
  },
  {
   "cell_type": "markdown",
   "id": "646a84bc",
   "metadata": {},
   "source": [
    "### %whos"
   ]
  },
  {
   "cell_type": "markdown",
   "id": "d821e1fe",
   "metadata": {},
   "source": [
    "Now try `whos`."
   ]
  },
  {
   "cell_type": "code",
   "execution_count": 78,
   "id": "d064f1c9",
   "metadata": {},
   "outputs": [
    {
     "name": "stdout",
     "output_type": "stream",
     "text": [
      "Variable           Type     Data/Info\n",
      "-------------------------------------\n",
      "aBool              bool     True\n",
      "aList              list     n=3\n",
      "aStr               str      Hello!\n",
      "anObject           int      11\n",
      "another            float    156.0\n",
      "anotherBool        bool     False\n",
      "apple              bool     True\n",
      "bee_num            int      1\n",
      "bees               bool     True\n",
      "bool_to_int_1      int      1\n",
      "bool_to_int_2      int      0\n",
      "e_num              float    2.7182\n",
      "e_str              str      2.7182\n",
      "eleven             int      11\n",
      "expDict            dict     n=4\n",
      "immStr             str      You cannot change me either!\n",
      "immStrCopy         str      You cannot change me!\n",
      "integer            int      156\n",
      "just_a_list        list     n=5\n",
      "mList              list     n=4\n",
      "mListCopy          list     n=4\n",
      "myDict             dict     n=4\n",
      "myList             list     n=4\n",
      "myTup              tuple    n=4\n",
      "negative_to_bool   bool     True\n",
      "notAnotherObject   int      42\n",
      "pencil             bool     False\n",
      "positive_to_bool   bool     True\n",
      "whale              bool     True\n",
      "zero_to_bool       bool     False\n"
     ]
    }
   ],
   "source": [
    "whos"
   ]
  },
  {
   "cell_type": "markdown",
   "id": "43b6fd15",
   "metadata": {},
   "source": [
    "*What does `whos` do?*"
   ]
  },
  {
   "cell_type": "markdown",
   "id": "0fa6f683",
   "metadata": {},
   "source": [
    "Note: who and whos are \"magic commands\" commands available in iPython (and therefore in Jupyter Notebooks) but are not part of Python *per se*. "
   ]
  },
  {
   "cell_type": "markdown",
   "id": "2b871cb2-9160-4076-988d-e1b6d7707d2a",
   "metadata": {},
   "source": [
    "_Displays information of all variables currently defined with their type and value._"
   ]
  }
 ],
 "metadata": {
  "kernelspec": {
   "display_name": "Python 3 (ipykernel)",
   "language": "python",
   "name": "python3"
  },
  "language_info": {
   "codemirror_mode": {
    "name": "ipython",
    "version": 3
   },
   "file_extension": ".py",
   "mimetype": "text/x-python",
   "name": "python",
   "nbconvert_exporter": "python",
   "pygments_lexer": "ipython3",
   "version": "3.9.13"
  }
 },
 "nbformat": 4,
 "nbformat_minor": 5
}
