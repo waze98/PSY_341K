{
 "cells": [
  {
   "cell_type": "markdown",
   "id": "1f1534b9",
   "metadata": {},
   "source": [
    "# Numpy review homework"
   ]
  },
  {
   "cell_type": "markdown",
   "id": "4db19bcf",
   "metadata": {},
   "source": [
    "1. Make a numpy matrix from a Python list of lists..."
   ]
  },
  {
   "cell_type": "code",
   "execution_count": 11,
   "id": "6b140a06",
   "metadata": {},
   "outputs": [
    {
     "name": "stdout",
     "output_type": "stream",
     "text": [
      "[[1 1 1]\n",
      " [2 2 2]\n",
      " [3 3 3]\n",
      " [4 4 4]\n",
      " [5 5 5]]\n"
     ]
    }
   ],
   "source": [
    "import numpy as np \n",
    "\n",
    "list_of_lists = [[1, 1, 1], [2, 2, 2], [3, 3, 3], \n",
    "                  [4, 4, 4], [5, 5, 5]]\n",
    "\n",
    "matrix = np.array(list_of_lists)\n",
    "\n",
    "print(matrix)"
   ]
  },
  {
   "cell_type": "markdown",
   "id": "dd6e8ffb",
   "metadata": {},
   "source": [
    "2. Make a 3D numpy matrix from a Python list of lists of lists!"
   ]
  },
  {
   "cell_type": "code",
   "execution_count": 13,
   "id": "8a319f23-a80f-4f98-bda2-cbb5ea4eb582",
   "metadata": {},
   "outputs": [
    {
     "name": "stdout",
     "output_type": "stream",
     "text": [
      "[[[ 1 10 14 30]\n",
      "  [ 2 19 24 33]\n",
      "  [ 9 23 11 12]]\n",
      "\n",
      " [[ 6 14 20 19]\n",
      "  [25 18 21  0]\n",
      "  [ 7 22  3 30]]]\n"
     ]
    }
   ],
   "source": [
    "nested_list = [[[1, 10, 14, 30], [2, 19, 24, 33], [9, 23, 11, 12]],\n",
    "               [[6, 14, 20, 19], [25, 18, 21, 0], [7, 22, 3, 30]]]\n",
    "\n",
    "matrix = np.array(nested_list)\n",
    "\n",
    "print(matrix)"
   ]
  },
  {
   "cell_type": "markdown",
   "id": "8ad64691",
   "metadata": {},
   "source": [
    "3. Create a 5x3 array of Gaussian random numbers. "
   ]
  },
  {
   "cell_type": "code",
   "execution_count": 14,
   "id": "5f280edc",
   "metadata": {},
   "outputs": [
    {
     "name": "stdout",
     "output_type": "stream",
     "text": [
      "[[ 0.64001319 -0.56976269 -1.98592076]\n",
      " [-1.34885722 -0.29333753 -0.91941385]\n",
      " [-0.48032445  0.19431185  0.47163618]\n",
      " [ 0.25680884  1.84791802  0.15802919]\n",
      " [-1.49810906 -0.74920353 -1.5084607 ]]\n"
     ]
    }
   ],
   "source": [
    "random_nums = np.random.randn(5,3)\n",
    "print(random_nums)"
   ]
  },
  {
   "cell_type": "markdown",
   "id": "d129639e",
   "metadata": {},
   "source": [
    "4. Write a script to go through the array created in 3. and announce (print) the value and its row and column indexes.\n",
    "\n",
    "Hint: Use nested `for` loops - one to loop through the rows and one to loop through the columns."
   ]
  },
  {
   "cell_type": "code",
   "execution_count": 16,
   "id": "9126498f-5d9c-4265-b79f-6e4142be2e48",
   "metadata": {},
   "outputs": [
    {
     "name": "stdout",
     "output_type": "stream",
     "text": [
      "Value: 0.64001319, Row Index: 0, Column Index: 0\n",
      "Value: -0.56976269, Row Index: 0, Column Index: 1\n",
      "Value: -1.98592076, Row Index: 0, Column Index: 2\n",
      "Value: -1.34885722, Row Index: 1, Column Index: 0\n",
      "Value: -0.29333753, Row Index: 1, Column Index: 1\n",
      "Value: -0.91941385, Row Index: 1, Column Index: 2\n",
      "Value: -0.48032445, Row Index: 2, Column Index: 0\n",
      "Value: 0.19431185, Row Index: 2, Column Index: 1\n",
      "Value: 0.47163618, Row Index: 2, Column Index: 2\n",
      "Value: 0.25680884, Row Index: 3, Column Index: 0\n",
      "Value: 1.84791802, Row Index: 3, Column Index: 1\n",
      "Value: 0.15802919, Row Index: 3, Column Index: 2\n",
      "Value: -1.49810906, Row Index: 4, Column Index: 0\n",
      "Value: -0.74920353, Row Index: 4, Column Index: 1\n",
      "Value: -1.5084607, Row Index: 4, Column Index: 2\n"
     ]
    }
   ],
   "source": [
    "array_nums = [[ 0.64001319, -0.56976269, -1.98592076],\n",
    " [-1.34885722, -0.29333753, -0.91941385],\n",
    " [-0.48032445, 0.19431185, 0.47163618],\n",
    " [ 0.25680884, 1.84791802, 0.15802919],\n",
    " [-1.49810906, -0.74920353, -1.5084607 ]]\n",
    "\n",
    "\n",
    "for i in range(len(array_nums)):\n",
    "    for j in range(len(array_nums[i])):\n",
    "        print(f\"Value: {array_nums[i][j]}, Row Index: {i}, Column Index: {j}\")"
   ]
  },
  {
   "cell_type": "markdown",
   "id": "2f6c8094",
   "metadata": {},
   "source": [
    "5. Make an new array out of your random numbers such that the mean is 10 and the standard deviation is 3."
   ]
  },
  {
   "cell_type": "code",
   "execution_count": 34,
   "id": "b8cfc374",
   "metadata": {},
   "outputs": [
    {
     "name": "stdout",
     "output_type": "stream",
     "text": [
      "[[13.15405396  9.43380967  5.07890886]\n",
      " [ 7.03797585 10.28385896  8.35857933]\n",
      " [ 9.70884583 11.78345475 12.63626912]\n",
      " [11.97564247 16.86854449 11.67188007]\n",
      " [ 6.57900381  8.88200188  6.54717094]]\n"
     ]
    }
   ],
   "source": [
    "# desired mean and standard deviation\n",
    "mean = 10\n",
    "std = 3\n",
    "\n",
    "# calculate current mean and standard deviation of the random nums\n",
    "current_mean = np.mean(array_nums)\n",
    "current_std = np.std(array_nums)\n",
    "\n",
    "# switch the random numbers to have desired mean and standard deviation\n",
    "switched_nums = desired_mean + (desired_std / current_std) * (array_nums - current_mean)\n",
    "\n",
    "print(switched_nums)"
   ]
  },
  {
   "cell_type": "markdown",
   "id": "431e4556",
   "metadata": {},
   "source": [
    "6. Count the number of values in your new array that are below 7."
   ]
  },
  {
   "cell_type": "code",
   "execution_count": 30,
   "id": "80cb12c5",
   "metadata": {},
   "outputs": [
    {
     "name": "stdout",
     "output_type": "stream",
     "text": [
      "Number of values below 7: 3\n"
     ]
    }
   ],
   "source": [
    "count_below_7 = np.count_nonzero(switched_nums < 7)\n",
    "\n",
    "print(\"Number of values below 7:\", count_below_7)"
   ]
  },
  {
   "cell_type": "markdown",
   "id": "f7191a90",
   "metadata": {},
   "source": [
    "7. Make a numpy sequence that has the even numbers from 2 up to (and including) 20."
   ]
  },
  {
   "cell_type": "code",
   "execution_count": 21,
   "id": "23277d0c",
   "metadata": {},
   "outputs": [
    {
     "name": "stdout",
     "output_type": "stream",
     "text": [
      "[ 2  4  6  8 10 12 14 16 18 20]\n"
     ]
    }
   ],
   "source": [
    "even_sequence = np.arange(2, 21, 2)\n",
    "\n",
    "print(even_sequence)"
   ]
  },
  {
   "cell_type": "markdown",
   "id": "40bd499e",
   "metadata": {},
   "source": [
    "8. Get the second and third rows of your array created in #5."
   ]
  },
  {
   "cell_type": "code",
   "execution_count": 31,
   "id": "1abb0c7b",
   "metadata": {},
   "outputs": [
    {
     "name": "stdout",
     "output_type": "stream",
     "text": [
      "[[ 7.03797585 10.28385896  8.35857933]\n",
      " [ 9.70884583 11.78345475 12.63626912]]\n"
     ]
    }
   ],
   "source": [
    "second_third_rows = switched_nums[1:3]\n",
    "\n",
    "print(second_third_rows)"
   ]
  },
  {
   "cell_type": "markdown",
   "id": "1c3779c3",
   "metadata": {},
   "source": [
    "9. Compute the mean of the columns of your array created in #5."
   ]
  },
  {
   "cell_type": "code",
   "execution_count": 33,
   "id": "4e166283",
   "metadata": {},
   "outputs": [
    {
     "name": "stdout",
     "output_type": "stream",
     "text": [
      "Mean of the columns: [ 9.69110438 11.45033395  8.85856167]\n"
     ]
    }
   ],
   "source": [
    "mean_cols = np.mean(switched_nums, axis=0)\n",
    "\n",
    "print(\"Mean of the columns:\", mean_cols)"
   ]
  }
 ],
 "metadata": {
  "kernelspec": {
   "display_name": "Python 3 (ipykernel)",
   "language": "python",
   "name": "python3"
  },
  "language_info": {
   "codemirror_mode": {
    "name": "ipython",
    "version": 3
   },
   "file_extension": ".py",
   "mimetype": "text/x-python",
   "name": "python",
   "nbconvert_exporter": "python",
   "pygments_lexer": "ipython3",
   "version": "3.9.13"
  }
 },
 "nbformat": 4,
 "nbformat_minor": 5
}
