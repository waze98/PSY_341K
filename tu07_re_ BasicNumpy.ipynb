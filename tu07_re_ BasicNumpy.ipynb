{
 "cells": [
  {
   "cell_type": "markdown",
   "id": "af4e3e05",
   "metadata": {},
   "source": [
    "# Numpy Review"
   ]
  },
  {
   "cell_type": "markdown",
   "id": "263a8f38",
   "metadata": {},
   "source": [
    "In this review, we are going to refresh our memories about the Numpy package. Numpy (numerical Python) is the basic engine that turns Python into a tool for data analysis. Anything \"data sciency\" that you do in Python will rely on Numpy at some point, either explicitly (when calling Numpy fuctions directly), or implicitly (when, e.g., using Pandas).\n",
    "\n",
    "The point of Numpy is do make working with data in Python easier and faster. Here, we going to remind ourselves of basic Numpy functionality."
   ]
  },
  {
   "cell_type": "markdown",
   "id": "d9164dd0",
   "metadata": {},
   "source": [
    "## Python lists"
   ]
  },
  {
   "cell_type": "markdown",
   "id": "0c795142",
   "metadata": {},
   "source": [
    "First, let's look at a basic Python list:"
   ]
  },
  {
   "cell_type": "code",
   "execution_count": 1,
   "id": "7cc6c461",
   "metadata": {},
   "outputs": [],
   "source": [
    "a_list = [2, 4, 6, 8]"
   ]
  },
  {
   "cell_type": "markdown",
   "id": "26276c4e",
   "metadata": {},
   "source": [
    "---"
   ]
  },
  {
   "cell_type": "markdown",
   "id": "8fa82896",
   "metadata": {},
   "source": [
    "Just to warm up, let's get some items from our list via *indexing*:"
   ]
  },
  {
   "cell_type": "markdown",
   "id": "a87cf75e",
   "metadata": {},
   "source": [
    "Get the first number from the list (the \"zeroith\" number in Pythonese):"
   ]
  },
  {
   "cell_type": "code",
   "execution_count": 2,
   "id": "dd34fc43",
   "metadata": {},
   "outputs": [
    {
     "data": {
      "text/plain": [
       "2"
      ]
     },
     "execution_count": 2,
     "metadata": {},
     "output_type": "execute_result"
    }
   ],
   "source": [
    "a_list[0]"
   ]
  },
  {
   "cell_type": "markdown",
   "id": "d0970823",
   "metadata": {},
   "source": [
    "Get the last two numbers:"
   ]
  },
  {
   "cell_type": "code",
   "execution_count": 3,
   "id": "ac62c284",
   "metadata": {},
   "outputs": [
    {
     "data": {
      "text/plain": [
       "[6, 8]"
      ]
     },
     "execution_count": 3,
     "metadata": {},
     "output_type": "execute_result"
    }
   ],
   "source": [
    "a_list[-2:]"
   ]
  },
  {
   "cell_type": "markdown",
   "id": "4230f073",
   "metadata": {},
   "source": [
    "---"
   ]
  },
  {
   "cell_type": "markdown",
   "id": "5040da6b",
   "metadata": {},
   "source": [
    "Now let's make a *nested* Python list:"
   ]
  },
  {
   "cell_type": "code",
   "execution_count": 4,
   "id": "fb81b0b3",
   "metadata": {},
   "outputs": [],
   "source": [
    "a_nested_list = [[2, 4], [3, -1], [-2, 1]]"
   ]
  },
  {
   "cell_type": "markdown",
   "id": "900ef805",
   "metadata": {},
   "source": [
    "Remember that a Python list can hold data of different types, lengths, etc., but this list is special; it is a *list of lists* all of the same length.\n",
    "\n",
    "Let's have a look:"
   ]
  },
  {
   "cell_type": "code",
   "execution_count": 5,
   "id": "a3b8c441",
   "metadata": {},
   "outputs": [
    {
     "name": "stdout",
     "output_type": "stream",
     "text": [
      "[[2, 4], [3, -1], [-2, 1]]\n"
     ]
    }
   ],
   "source": [
    "print(a_nested_list)"
   ]
  },
  {
   "cell_type": "markdown",
   "id": "959b1950",
   "metadata": {},
   "source": [
    "How would we get the first entry in the second list? \n",
    "\n",
    "We could do it in two steps... first, get the second list:"
   ]
  },
  {
   "cell_type": "code",
   "execution_count": 6,
   "id": "0f55e496",
   "metadata": {},
   "outputs": [],
   "source": [
    "sec_list = a_nested_list[1]"
   ]
  },
  {
   "cell_type": "markdown",
   "id": "b8935560",
   "metadata": {},
   "source": [
    "And then get the first entry:"
   ]
  },
  {
   "cell_type": "code",
   "execution_count": 7,
   "id": "d49befc0",
   "metadata": {},
   "outputs": [
    {
     "name": "stdout",
     "output_type": "stream",
     "text": [
      "3\n"
     ]
    }
   ],
   "source": [
    "my_num = sec_list[0]\n",
    "print(my_num)"
   ]
  },
  {
   "cell_type": "markdown",
   "id": "69738102",
   "metadata": {},
   "source": [
    "Conveniently, we can just do this in one go:"
   ]
  },
  {
   "cell_type": "code",
   "execution_count": 8,
   "id": "ea9780ab",
   "metadata": {},
   "outputs": [
    {
     "name": "stdout",
     "output_type": "stream",
     "text": [
      "3\n"
     ]
    }
   ],
   "source": [
    "my_num = a_nested_list[1][0]\n",
    "print(my_num)"
   ]
  },
  {
   "cell_type": "markdown",
   "id": "dd28507a",
   "metadata": {},
   "source": [
    "This does the same thing without having to invoke the intermediate variable `sec_list`. \n",
    "\n",
    "While this list-of-lists construct might seem a little abstract, there is actually a nice way to wrap our heads around it, which is to think of it as a *matrix*."
   ]
  },
  {
   "cell_type": "markdown",
   "id": "573a5f19",
   "metadata": {},
   "source": [
    "> Unfortunately, no one can be told what the Matrix is. You have to see it for yourself. *- Morpheus*"
   ]
  },
  {
   "cell_type": "markdown",
   "id": "9fbc145c",
   "metadata": {},
   "source": [
    "Here is an example of a matrix:\n",
    "\n",
    "![A matrix](./images/mailboxes.png)"
   ]
  },
  {
   "cell_type": "markdown",
   "id": "9d94685f",
   "metadata": {},
   "source": [
    "A ***matrix*** is a 2 dimensional (2D) arrangement of things and, for our purposes, the things are data of one form or another (numbers, strings, timestamps, etc.).\n",
    "\n",
    "These mailboxes are numbered sequentially, because there are other mailboxes in other matrices and that's just how the USPS rolls. But, notice that, for *this* matrix of mailboxes, there is another way in which we could uniquely refer to each mailbox. Specifically, we could uniquely specify each mailbox by the *row* it is in and the *column* it is in.\n",
    "\n",
    "For example, the open mailbox with the key in the door is in the 2nd row and the 4th column or, in terms of Python indexes, the mailbox is at location [1, 3]. "
   ]
  },
  {
   "cell_type": "markdown",
   "id": "10966ec4",
   "metadata": {},
   "source": [
    "So, we can think of matrix as an arrangement of data that has a built in ***spatial coordinate system*** used to refer to the items of data."
   ]
  },
  {
   "cell_type": "markdown",
   "id": "a708411b",
   "metadata": {},
   "source": [
    "Here's another Python list of lists:"
   ]
  },
  {
   "cell_type": "code",
   "execution_count": 9,
   "id": "e61fbe3d",
   "metadata": {},
   "outputs": [],
   "source": [
    "another_nested_list = [[3.3, 2.3, 2.2], [1.2, 7.8, 8.7], [4.8, 2.2, 6.5],\n",
    "                       [1.5, 7.5, 9.5], [5.9, 1.6, 7.7]]"
   ]
  },
  {
   "cell_type": "markdown",
   "id": "088a7664",
   "metadata": {},
   "source": [
    "As far as Python is concerned, this is just a list that happens to contain 5 lists, each of length 3:"
   ]
  },
  {
   "cell_type": "code",
   "execution_count": 10,
   "id": "2d5746d4",
   "metadata": {},
   "outputs": [
    {
     "name": "stdout",
     "output_type": "stream",
     "text": [
      "Another nested Python list: [[3.3, 2.3, 2.2], [1.2, 7.8, 8.7], [4.8, 2.2, 6.5], [1.5, 7.5, 9.5], [5.9, 1.6, 7.7]]\n"
     ]
    }
   ],
   "source": [
    "print(f'Another nested Python list: {another_nested_list}')"
   ]
  },
  {
   "cell_type": "markdown",
   "id": "e7d08cbc",
   "metadata": {},
   "source": [
    "But it makes sense for our human brains to think about it as a 2D arrangement of data, like this: "
   ]
  },
  {
   "cell_type": "markdown",
   "id": "d3285696",
   "metadata": {},
   "source": [
    "| row # | Col # | | | | |\n",
    "| ---- | ---- | ---- | ---- | ---- | ---- |\n",
    "|   | 0 | 1 | 2 | 3 |  4 | 5 |\n",
    "| 0 | 3.3 | 1.2 | 4.8 | 1.5 |  5.9 | 9.0 |\n",
    "| 1 | 2.3 | 7.8 | 2.2 | 7.5 |  1.6 | 8.1 |\n",
    "| 2 | 2.2 | 8.7 | 6.5 | 9.5 |  7.7 | 5.2 |"
   ]
  },
  {
   "cell_type": "markdown",
   "id": "a6761761",
   "metadata": {},
   "source": [
    "Now we can think of the Python indexes used to access the data as spatial ***row*** and ***column*** coordinates. For example:"
   ]
  },
  {
   "cell_type": "code",
   "execution_count": 11,
   "id": "2a3cce16",
   "metadata": {},
   "outputs": [
    {
     "data": {
      "text/plain": [
       "2.2"
      ]
     },
     "execution_count": 11,
     "metadata": {},
     "output_type": "execute_result"
    }
   ],
   "source": [
    "another_nested_list[2][1]"
   ]
  },
  {
   "cell_type": "markdown",
   "id": "627a0d27",
   "metadata": {},
   "source": [
    "fetches the data value in the second row (row index 1) and the third column (column index 2). \n",
    "\n",
    "Even though, in Python terms, `another_nested_list` is just a list of lists that all happen to be of the same length, it's very helpful for us to map data like this onto a matrix and think of the indexes as coordinates."
   ]
  },
  {
   "cell_type": "markdown",
   "id": "b807350d",
   "metadata": {},
   "source": [
    "## Numpy"
   ]
  },
  {
   "cell_type": "markdown",
   "id": "46de4820",
   "metadata": {},
   "source": [
    "Numpy is a big and powerful package, but you can think of it's most basic function as making this matrix-like way of thinking about data explicit, as opposed to just a cute way of thinking about lists of lists."
   ]
  },
  {
   "cell_type": "markdown",
   "id": "cbf08d0c",
   "metadata": {},
   "source": [
    "To use numpy, we first import it. Traditionally, it is imported under the name \"`np`\"."
   ]
  },
  {
   "cell_type": "code",
   "execution_count": 12,
   "id": "6c5981a7",
   "metadata": {},
   "outputs": [],
   "source": [
    "import numpy as np"
   ]
  },
  {
   "cell_type": "markdown",
   "id": "49fcaf5f",
   "metadata": {},
   "source": [
    "Now we can convert our latest nested list into a numpy matrix using numpy's `array()` function:"
   ]
  },
  {
   "cell_type": "code",
   "execution_count": 13,
   "id": "df35a131",
   "metadata": {},
   "outputs": [],
   "source": [
    "our_numpy_matrix = np.array(another_nested_list)"
   ]
  },
  {
   "cell_type": "markdown",
   "id": "4d9b1ddf",
   "metadata": {},
   "source": [
    "Let's look at our new matrix!"
   ]
  },
  {
   "cell_type": "code",
   "execution_count": 14,
   "id": "dc7a5bc1",
   "metadata": {},
   "outputs": [
    {
     "name": "stdout",
     "output_type": "stream",
     "text": [
      "[[3.3 2.3 2.2]\n",
      " [1.2 7.8 8.7]\n",
      " [4.8 2.2 6.5]\n",
      " [1.5 7.5 9.5]\n",
      " [5.9 1.6 7.7]]\n"
     ]
    }
   ],
   "source": [
    "print(our_numpy_matrix)"
   ]
  },
  {
   "cell_type": "markdown",
   "id": "34fa7754",
   "metadata": {},
   "source": [
    "And compare it to the Python list from which we created it."
   ]
  },
  {
   "cell_type": "code",
   "execution_count": 15,
   "id": "d38bf980",
   "metadata": {},
   "outputs": [
    {
     "name": "stdout",
     "output_type": "stream",
     "text": [
      "[[3.3, 2.3, 2.2], [1.2, 7.8, 8.7], [4.8, 2.2, 6.5], [1.5, 7.5, 9.5], [5.9, 1.6, 7.7]]\n"
     ]
    }
   ],
   "source": [
    "print(another_nested_list)"
   ]
  },
  {
   "cell_type": "markdown",
   "id": "4f5a090a",
   "metadata": {},
   "source": [
    "We can see that the numpy version has made the spatial row x column arrangement explicit.\n",
    "\n",
    "Now, getting data values is easy peasy, we just index into our new matrix with row and column coordinates of a desired value:"
   ]
  },
  {
   "cell_type": "code",
   "execution_count": 16,
   "id": "f9fe1a5a",
   "metadata": {},
   "outputs": [
    {
     "data": {
      "text/plain": [
       "4.8"
      ]
     },
     "execution_count": 16,
     "metadata": {},
     "output_type": "execute_result"
    }
   ],
   "source": [
    "our_numpy_matrix[2,0] # get the data at the third row and first column"
   ]
  },
  {
   "cell_type": "markdown",
   "id": "7aa25178",
   "metadata": {},
   "source": [
    "Let's see what data type our new matrix is, according to Python:"
   ]
  },
  {
   "cell_type": "code",
   "execution_count": 17,
   "id": "56e35e7e",
   "metadata": {},
   "outputs": [
    {
     "data": {
      "text/plain": [
       "numpy.ndarray"
      ]
     },
     "execution_count": 17,
     "metadata": {},
     "output_type": "execute_result"
    }
   ],
   "source": [
    "type(our_numpy_matrix)"
   ]
  },
  {
   "cell_type": "markdown",
   "id": "5bd907fd",
   "metadata": {},
   "source": [
    "So our new matrix is a Python object made by numpy of type \"ndarray\", which is short for \"N-dimesional array\" – we'll unpack this in a bit.\n",
    "\n",
    "But our object contains other objects (in that Pythonic way), so let's see what they are:"
   ]
  },
  {
   "cell_type": "code",
   "execution_count": 18,
   "id": "6fdc3c4d",
   "metadata": {},
   "outputs": [
    {
     "data": {
      "text/plain": [
       "numpy.float64"
      ]
     },
     "execution_count": 18,
     "metadata": {},
     "output_type": "execute_result"
    }
   ],
   "source": [
    "type(our_numpy_matrix[2,0])"
   ]
  },
  {
   "cell_type": "markdown",
   "id": "7b209ba0",
   "metadata": {},
   "source": [
    "So they are floating point numbers, also defined in numpy, that presumably have a few more bells and whistles that regular Python floats (the 64 at the end means that 64 bits are used to store each number; this is the number's *precision*."
   ]
  },
  {
   "cell_type": "markdown",
   "id": "a4d27bdc",
   "metadata": {},
   "source": [
    "You may have noticed that our new matrix is a little different than the way we laid out our numbers in the table above. There, we made each sub-list into a column, whereas the `array` function seems to have made each list into a row.\n",
    "\n",
    "Fear not! Numpy objects, like all Python objects \"know\" how to do things; they have *methods*. The need to turn the rows into columns and vice versa is very common – it is called *transposing* a matrix – so numpy arrays have a *transpose* method `T`."
   ]
  },
  {
   "cell_type": "code",
   "execution_count": 19,
   "id": "8e354817",
   "metadata": {},
   "outputs": [
    {
     "name": "stdout",
     "output_type": "stream",
     "text": [
      "[[3.3 1.2 4.8 1.5 5.9]\n",
      " [2.3 7.8 2.2 7.5 1.6]\n",
      " [2.2 8.7 6.5 9.5 7.7]]\n"
     ]
    }
   ],
   "source": [
    "transposed_matrix = our_numpy_matrix.T\n",
    "print(transposed_matrix)"
   ]
  },
  {
   "cell_type": "markdown",
   "id": "b992fdf5",
   "metadata": {},
   "source": [
    "Notice that the value 4.8 used to be in the third row of the first column, but now it's coordinates have been flipped:"
   ]
  },
  {
   "cell_type": "code",
   "execution_count": 20,
   "id": "b321602c",
   "metadata": {},
   "outputs": [
    {
     "data": {
      "text/plain": [
       "4.8"
      ]
     },
     "execution_count": 20,
     "metadata": {},
     "output_type": "execute_result"
    }
   ],
   "source": [
    "transposed_matrix[0,2] # new location of 4.8"
   ]
  },
  {
   "cell_type": "code",
   "execution_count": 21,
   "id": "01d3d028",
   "metadata": {},
   "outputs": [
    {
     "data": {
      "text/plain": [
       "2.2"
      ]
     },
     "execution_count": 21,
     "metadata": {},
     "output_type": "execute_result"
    }
   ],
   "source": [
    "transposed_matrix[2,0] # value at the old location"
   ]
  },
  {
   "cell_type": "markdown",
   "id": "a9016ecf",
   "metadata": {},
   "source": [
    "---"
   ]
  },
  {
   "cell_type": "markdown",
   "id": "b9685491",
   "metadata": {},
   "source": [
    "In the code cell below, make a Python list of lists, create a numpy matrix from it, transpose it, and access 3 of it's values."
   ]
  },
  {
   "cell_type": "code",
   "execution_count": 22,
   "id": "281c75ea",
   "metadata": {},
   "outputs": [
    {
     "name": "stdout",
     "output_type": "stream",
     "text": [
      "[[1.  1.2 1.3]\n",
      " [2.  2.2 2.3]\n",
      " [3.  3.2 3.3]\n",
      " [4.  4.2 4.3]\n",
      " [5.8 5.2 5.3]]\n",
      "\n",
      "[[1.  2.  3.  4.  5.8]\n",
      " [1.2 2.2 3.2 4.2 5.2]\n",
      " [1.3 2.3 3.3 4.3 5.3]]\n",
      "\n",
      "4.0\n",
      "3.2\n",
      "5.3\n"
     ]
    }
   ],
   "source": [
    "list_of_lists = [[1.0, 1.2, 1.3], [2.0, 2.2, 2.3], [3.0, 3.2, 3.3], \n",
    "                  [4.0, 4.2, 4.3], [5.8, 5.2, 5.3]]\n",
    "\n",
    "matrix = np.array(list_of_lists)\n",
    "print(matrix)\n",
    "print()\n",
    "transposed_matrix = matrix.T\n",
    "print(transposed_matrix)\n",
    "print()\n",
    "print(transposed_matrix[0, 3])\n",
    "print(transposed_matrix[1, 2])\n",
    "print(transposed_matrix[2, 4])"
   ]
  },
  {
   "cell_type": "markdown",
   "id": "19493993",
   "metadata": {},
   "source": [
    "### Numpy arrays "
   ]
  },
  {
   "cell_type": "markdown",
   "id": "4b682be0",
   "metadata": {},
   "source": [
    "So far, we've been talking about our data above as a \"matrix\", yet we used the `array()` function to make it, and Python tells us that our matrix is an `ndarray` – what's going on?"
   ]
  },
  {
   "cell_type": "markdown",
   "id": "3021e299",
   "metadata": {},
   "source": [
    "#### Types of arrays"
   ]
  },
  {
   "cell_type": "markdown",
   "id": "70ddc061",
   "metadata": {},
   "source": [
    "\"Array\" is a general term for a structured collection of data, and can have any number of dimensions (hence \"ndarray\" for \"N-dimensional array\"). Here's an (empty) 3 dimensional array:"
   ]
  },
  {
   "cell_type": "markdown",
   "id": "f978734e",
   "metadata": {},
   "source": [
    "![A 3D array](images/array.png)"
   ]
  },
  {
   "cell_type": "markdown",
   "id": "d6587988",
   "metadata": {},
   "source": [
    "If this array were named \"phred\", we would index it just like above, but with an extra index – the coordinate specifying the location along the third dimension. So `phred[5, 5, 3]` would specify the bottom right location just peeking out on the fourth – what? – \"page\" of the array."
   ]
  },
  {
   "cell_type": "markdown",
   "id": "bc48b32d",
   "metadata": {},
   "source": [
    "Though arrays can have any number of dimensions, lower-dimensional arrays are common and get their own special names.\n",
    "\n",
    "A \"matrix\" is an array of 2 dimensions. As you already know, a matrix is a universal format for data and is preferably in \"tidy\" format, where each row is an observation and each column is a variable.\n",
    "\n",
    "A \"vector\" is a list of numbers, so named because a simple list of numbers is used in math (linear algebra) and physics to specify vectors (such as force). Vectors can be \n",
    "\n",
    "* \"row vectors\" - a matrix with a single row\n",
    "* \"column vectors\" - a matrix with a single column\n",
    "* a list of numbers with only a single dimension, like a Python list\n",
    "\n",
    "Finally, in this lingo, a single number is referred to as a \"scaler\" (because multiplying a vector by a number scales the length of the vector without changing its direction)."
   ]
  },
  {
   "cell_type": "markdown",
   "id": "904d420d",
   "metadata": {},
   "source": [
    "---"
   ]
  },
  {
   "cell_type": "markdown",
   "id": "9b6b67bd",
   "metadata": {},
   "source": [
    "In the cell below, make a Python list or tuple containing the x and y coordinates of a point (any point you like – I'm a big fan of x=3, y=1 personally). On a piece of paper or a drawing program or whatever, plot the point in an x,y coordinate system, and draw an arrow – a vector! – from the origin to your point."
   ]
  },
  {
   "cell_type": "code",
   "execution_count": 29,
   "id": "67e1187d",
   "metadata": {},
   "outputs": [],
   "source": [
    "point = (3, 1)"
   ]
  },
  {
   "cell_type": "code",
   "execution_count": 37,
   "id": "5ca696f9-bee7-4dd8-8dc9-226d20085aae",
   "metadata": {},
   "outputs": [
    {
     "data": {
      "image/png": "[encoded data removed]",
      "text/plain": [
       "<Figure size 640x480 with 1 Axes>"
      ]
     },
     "metadata": {},
     "output_type": "display_data"
    }
   ],
   "source": [
    "plt.figure()\n",
    "plt.plot(0, 0, 'go')  # origin\n",
    "plt.plot(point[0], point[1], 'ro')  # point\n",
    "plt.quiver(0, 0, point[0], point[1], angles = 'xy', scale_units = 'xy', scale = 1, color = 'b')  # vector\n",
    "plt.xlim(-1, 7)\n",
    "plt.ylim(-1, 3)\n",
    "plt.xlabel('x')\n",
    "plt.ylabel('y')\n",
    "plt.title('Original Vector')\n",
    "plt.grid(True)\n",
    "plt.show()"
   ]
  },
  {
   "cell_type": "markdown",
   "id": "007d9913",
   "metadata": {},
   "source": [
    "Now convert your Python object into a numpy array."
   ]
  },
  {
   "cell_type": "code",
   "execution_count": 38,
   "id": "ec7b745d",
   "metadata": {},
   "outputs": [],
   "source": [
    "obj_to_array = np.array(point)"
   ]
  },
  {
   "cell_type": "markdown",
   "id": "9fac1343",
   "metadata": {},
   "source": [
    "Get the shape of your new vector using the `shape` method (used just like the `T` method above)."
   ]
  },
  {
   "cell_type": "code",
   "execution_count": 39,
   "id": "a5d4bc96",
   "metadata": {},
   "outputs": [
    {
     "data": {
      "text/plain": [
       "(2,)"
      ]
     },
     "execution_count": 39,
     "metadata": {},
     "output_type": "execute_result"
    }
   ],
   "source": [
    "obj_to_array.shape"
   ]
  },
  {
   "cell_type": "markdown",
   "id": "ab1daffa",
   "metadata": {},
   "source": [
    "Multiply your vector by 2 (if your vector is named \"Velma\", then you would literally do `Velma * 2`)."
   ]
  },
  {
   "cell_type": "code",
   "execution_count": 40,
   "id": "91c01245",
   "metadata": {},
   "outputs": [
    {
     "data": {
      "text/plain": [
       "array([6, 2])"
      ]
     },
     "execution_count": 40,
     "metadata": {},
     "output_type": "execute_result"
    }
   ],
   "source": [
    "obj_to_array * 2"
   ]
  },
  {
   "cell_type": "markdown",
   "id": "8198f09a",
   "metadata": {},
   "source": [
    "Plot your new vector and confirm that the multiplication *scaled* the original vector up by a factor of 2 without changing its direction!"
   ]
  },
  {
   "cell_type": "code",
   "execution_count": 41,
   "id": "34b6b284-683f-4d7d-88f9-c130d05e7f70",
   "metadata": {},
   "outputs": [
    {
     "data": {
      "image/png": "[encoded data removed]",
      "text/plain": [
       "<Figure size 640x480 with 1 Axes>"
      ]
     },
     "metadata": {},
     "output_type": "display_data"
    }
   ],
   "source": [
    "plt.figure()\n",
    "plt.plot(0, 0, 'go')  # origin\n",
    "plt.plot(scaled_vector[0], scaled_vector[1], 'ro')  # scaled point\n",
    "plt.quiver(0, 0, scaled_vector[0], scaled_vector[1], angles = 'xy', scale_units = 'xy', scale = 1, color = 'b')  # vector\n",
    "plt.xlim(-1, 13)\n",
    "plt.ylim(-1, 5)\n",
    "plt.xlabel('x')\n",
    "plt.ylabel('y')\n",
    "plt.title('Scaled Vector')\n",
    "plt.grid(True)\n",
    "plt.show()"
   ]
  },
  {
   "cell_type": "markdown",
   "id": "0256a685",
   "metadata": {},
   "source": [
    "---"
   ]
  },
  {
   "cell_type": "markdown",
   "id": "9f9567b2",
   "metadata": {},
   "source": [
    "We've just illustrated an awesome thing about numpy ndarrays: if we want to do simple operations on an entire array, we don't need to do it element-by-element, we just do it on the entire array in one go! Despite operating on arrays in general, this property is referred to as \"*vectorization*\" of operations."
   ]
  },
  {
   "cell_type": "markdown",
   "id": "c262a11e",
   "metadata": {},
   "source": [
    "#### Making numpy arrays "
   ]
  },
  {
   "cell_type": "markdown",
   "id": "70adf28e",
   "metadata": {},
   "source": [
    "##### arrays from lists or tuples"
   ]
  },
  {
   "cell_type": "markdown",
   "id": "4bd36957",
   "metadata": {},
   "source": [
    "We've already seen that we can make numpy arrays from Python lists. Like this:"
   ]
  },
  {
   "cell_type": "code",
   "execution_count": 42,
   "id": "22117b56",
   "metadata": {},
   "outputs": [
    {
     "name": "stdout",
     "output_type": "stream",
     "text": [
      "A python list: [2, 4, 6, 8]\n",
      "A numpy thing: [2 4 6 8]\n"
     ]
    }
   ],
   "source": [
    "print(f'A python list: {a_list}')\n",
    "\n",
    "a_numpy_thing = np.array((a_list))\n",
    "\n",
    "print(f'A numpy thing: {a_numpy_thing}')"
   ]
  },
  {
   "cell_type": "markdown",
   "id": "1024b59c",
   "metadata": {},
   "source": [
    "Or this:"
   ]
  },
  {
   "cell_type": "code",
   "execution_count": 43,
   "id": "bf1b1d8b",
   "metadata": {
    "scrolled": true
   },
   "outputs": [
    {
     "data": {
      "text/plain": [
       "array([[1, 2, 3],\n",
       "       [4, 5, 6]])"
      ]
     },
     "execution_count": 43,
     "metadata": {},
     "output_type": "execute_result"
    }
   ],
   "source": [
    "a = np.array([[1, 2, 3], [4, 5, 6]])\n",
    "a"
   ]
  },
  {
   "cell_type": "markdown",
   "id": "84b90175",
   "metadata": {},
   "source": [
    "---"
   ]
  },
  {
   "cell_type": "markdown",
   "id": "fd3fb70b",
   "metadata": {},
   "source": [
    "In the cell below, confirm that you can make a numpy array from a Python tuple."
   ]
  },
  {
   "cell_type": "code",
   "execution_count": 44,
   "id": "6bd25eb5",
   "metadata": {},
   "outputs": [
    {
     "data": {
      "text/plain": [
       "array([1, 3, 5, 7, 9])"
      ]
     },
     "execution_count": 44,
     "metadata": {},
     "output_type": "execute_result"
    }
   ],
   "source": [
    "a_tuple = (1, 3, 5, 7, 9)\n",
    "\n",
    "array_from_tuple = np.array(a_tuple)\n",
    "array_from_tuple"
   ]
  },
  {
   "cell_type": "markdown",
   "id": "25b57af4",
   "metadata": {},
   "source": [
    "##### ones and zeros"
   ]
  },
  {
   "cell_type": "markdown",
   "id": "ef0ff234",
   "metadata": {},
   "source": [
    "If we're creating or reading in data from a source other than a Python list or tuple, we need a place to put it. To make new arrays to hold stuff, we first create an array filled with something. Most of the time, it doesn't matter what we fill it with. We commonly fill new arrays with ones or zeros."
   ]
  },
  {
   "cell_type": "code",
   "execution_count": 45,
   "id": "98e41522",
   "metadata": {},
   "outputs": [
    {
     "name": "stdout",
     "output_type": "stream",
     "text": [
      "an array of ones:\n",
      " [[1. 1.]\n",
      " [1. 1.]\n",
      " [1. 1.]]\n"
     ]
    }
   ],
   "source": [
    "a_vec = np.ones((3,2))\n",
    "print(f'an array of ones:\\n {a_vec}')"
   ]
  },
  {
   "cell_type": "markdown",
   "id": "bd929b19",
   "metadata": {},
   "source": [
    "---"
   ]
  },
  {
   "cell_type": "markdown",
   "id": "90715e08",
   "metadata": {},
   "source": [
    "In the cell below, make an array of zeros."
   ]
  },
  {
   "cell_type": "code",
   "execution_count": 46,
   "id": "4d64ab7e",
   "metadata": {},
   "outputs": [
    {
     "data": {
      "text/plain": [
       "array([[0., 0.],\n",
       "       [0., 0.],\n",
       "       [0., 0.]])"
      ]
     },
     "execution_count": 46,
     "metadata": {},
     "output_type": "execute_result"
    }
   ],
   "source": [
    "zero_array = np.zeros((3, 2))\n",
    "zero_array"
   ]
  },
  {
   "cell_type": "markdown",
   "id": "004caea2",
   "metadata": {},
   "source": [
    "---"
   ]
  },
  {
   "cell_type": "markdown",
   "id": "97c6caeb",
   "metadata": {},
   "source": [
    "##### Any number "
   ]
  },
  {
   "cell_type": "markdown",
   "id": "07f7b756",
   "metadata": {},
   "source": [
    "We can also initialize an array to any value we want."
   ]
  },
  {
   "cell_type": "code",
   "execution_count": 47,
   "id": "4b27a6df",
   "metadata": {},
   "outputs": [
    {
     "name": "stdout",
     "output_type": "stream",
     "text": [
      "Every cell has the answer!:\n",
      " [[42 42 42]\n",
      " [42 42 42]\n",
      " [42 42 42]]\n"
     ]
    }
   ],
   "source": [
    "the_answer = np.full((3,3), 42)\n",
    "print(f'Every cell has the answer!:\\n {the_answer}')"
   ]
  },
  {
   "cell_type": "markdown",
   "id": "b51b1e05",
   "metadata": {},
   "source": [
    "---"
   ]
  },
  {
   "cell_type": "markdown",
   "id": "c10214c0",
   "metadata": {},
   "source": [
    "In the cell below, get the same result as above (a 3x3 array of 42s) using 1) `np.ones` and 2) `np.zeros`. \n",
    "(Hint: take advantage of vectorization using `*` and `+`)"
   ]
  },
  {
   "cell_type": "code",
   "execution_count": 48,
   "id": "93b36375",
   "metadata": {},
   "outputs": [
    {
     "name": "stdout",
     "output_type": "stream",
     "text": [
      "np.ones: [[42. 42. 42.]\n",
      " [42. 42. 42.]\n",
      " [42. 42. 42.]]\n",
      "\n",
      "np.zeros: [[42. 42. 42.]\n",
      " [42. 42. 42.]\n",
      " [42. 42. 42.]]\n"
     ]
    }
   ],
   "source": [
    "# np.ones\n",
    "ones_array = np.ones((3, 3))\n",
    "\n",
    "# Multiply the ones array by 42\n",
    "the_answer_ones = ones_array * 42\n",
    "print('np.ones:', the_answer_ones)\n",
    "\n",
    "# np.zeros\n",
    "zeros_array = np.zeros((3, 3))\n",
    "the_answer_zeros = zeros_array + 42\n",
    "print('\\nnp.zeros:', the_answer_zeros)"
   ]
  },
  {
   "cell_type": "markdown",
   "id": "468720bd",
   "metadata": {},
   "source": [
    "##### random numbers"
   ]
  },
  {
   "cell_type": "markdown",
   "id": "1d26f03a",
   "metadata": {},
   "source": [
    "In data science, we often add random noise to simulations in order to capture the random variability present in the universe and the data we get from it. We can do this using any number of functions in `np.random`. For example"
   ]
  },
  {
   "cell_type": "code",
   "execution_count": 51,
   "id": "8afcebc9",
   "metadata": {},
   "outputs": [
    {
     "name": "stdout",
     "output_type": "stream",
     "text": [
      "C'mon feel the noise! \n",
      " [[-0.66152738 -1.21369313  0.55039828  0.6460623 ]\n",
      " [-0.83129322  1.57561069 -0.27871562 -0.69066582]\n",
      " [-1.93112377  0.51619613 -0.91231976  1.89468231]\n",
      " [-0.8818898   0.75764503 -0.1829919   0.42941186]]\n"
     ]
    }
   ],
   "source": [
    "my_noise = np.random.randn(4,4)\n",
    "print(f'C\\'mon feel the noise! \\n {my_noise}')"
   ]
  },
  {
   "cell_type": "markdown",
   "id": "fed74414",
   "metadata": {},
   "source": [
    "Which made normally distributed (Gaussian) noise. "
   ]
  },
  {
   "cell_type": "markdown",
   "id": "f71ec50c",
   "metadata": {},
   "source": [
    "We can also make noise that is uniformly distributed:"
   ]
  },
  {
   "cell_type": "code",
   "execution_count": 52,
   "id": "f173f5bf",
   "metadata": {},
   "outputs": [
    {
     "name": "stdout",
     "output_type": "stream",
     "text": [
      "Moar noise! \n",
      " [[0.54817339 0.05689491 0.05670364 0.82355464]\n",
      " [0.85064108 0.02073329 0.63987486 0.18946149]\n",
      " [0.47616388 0.24368007 0.46777369 0.33292412]\n",
      " [0.10397316 0.62182816 0.18893279 0.54775564]]\n"
     ]
    }
   ],
   "source": [
    "unif_noise = np.random.rand(4,4)\n",
    "print(f'Moar noise! \\n {unif_noise}')"
   ]
  },
  {
   "cell_type": "markdown",
   "id": "6739d573",
   "metadata": {},
   "source": [
    "Or we can make random integers:"
   ]
  },
  {
   "cell_type": "code",
   "execution_count": 53,
   "id": "c3275494",
   "metadata": {},
   "outputs": [
    {
     "name": "stdout",
     "output_type": "stream",
     "text": [
      "Random integers! \n",
      " [[10  9 10  1]\n",
      " [ 4  7 10  9]\n",
      " [ 2  9  9  9]\n",
      " [ 7  4  7  6]]\n"
     ]
    }
   ],
   "source": [
    "int_noise = np.random.randint(1, 11, (4,4))\n",
    "print(f'Random integers! \\n {int_noise}')"
   ]
  },
  {
   "cell_type": "markdown",
   "id": "4749a756",
   "metadata": {},
   "source": [
    "##### the identity matrix"
   ]
  },
  {
   "cell_type": "markdown",
   "id": "e1ea04c2",
   "metadata": {},
   "source": [
    "Finally, we can make an \"identity matrix\", a matrix with 1s running down the diagonal. It's useful for linear algebra applications, and is included there only for completeness."
   ]
  },
  {
   "cell_type": "code",
   "execution_count": 54,
   "id": "5cfb0e38",
   "metadata": {
    "scrolled": true
   },
   "outputs": [
    {
     "name": "stdout",
     "output_type": "stream",
     "text": [
      "Aye aye Cap'n! \n",
      " [[1. 0. 0. 0.]\n",
      " [0. 1. 0. 0.]\n",
      " [0. 0. 1. 0.]\n",
      " [0. 0. 0. 1.]]\n"
     ]
    }
   ],
   "source": [
    "aye = np.eye(4,4)\n",
    "print(f'Aye aye Cap\\'n! \\n {aye}')"
   ]
  },
  {
   "cell_type": "markdown",
   "id": "7e78d236",
   "metadata": {},
   "source": [
    "---"
   ]
  },
  {
   "cell_type": "markdown",
   "id": "04b9eeef",
   "metadata": {},
   "source": [
    "In the cell below, make a 6x6 array containing random integers from -10 to 10."
   ]
  },
  {
   "cell_type": "code",
   "execution_count": 58,
   "id": "13d94e88",
   "metadata": {},
   "outputs": [
    {
     "name": "stdout",
     "output_type": "stream",
     "text": [
      "Random array!:\n",
      " [[  4  -3   8   8  -6  -3]\n",
      " [  8   1 -10  -5  -5   3]\n",
      " [  2 -10  -1   6   0  -9]\n",
      " [  1  -6  -7  -3   7 -10]\n",
      " [  6   9   8  10  -7   3]\n",
      " [ -9  -6   3   3  -4   3]]\n"
     ]
    }
   ],
   "source": [
    "random_array = np.random.randint(-10, 11, size=(6, 6))\n",
    "\n",
    "print('Random array!:\\n', random_array)"
   ]
  },
  {
   "cell_type": "markdown",
   "id": "f223e9bf",
   "metadata": {},
   "source": [
    "#### \"vectorized\" operations "
   ]
  },
  {
   "cell_type": "markdown",
   "id": "c4236a1e",
   "metadata": {},
   "source": [
    "As mentioned above, most of the common Python operators become *vectorized* in numpy, which means that we can to the same thing to every element of our arrays in one go."
   ]
  },
  {
   "cell_type": "markdown",
   "id": "3c79bdc0",
   "metadata": {},
   "source": [
    "let's add 10 to all our Gaussian random numbers from above."
   ]
  },
  {
   "cell_type": "code",
   "execution_count": 59,
   "id": "39f1ed20",
   "metadata": {},
   "outputs": [
    {
     "data": {
      "text/plain": [
       "array([[10.33847262,  9.78630687, 11.55039828, 11.6460623 ],\n",
       "       [10.16870678, 12.57561069, 10.72128438, 10.30933418],\n",
       "       [ 9.06887623, 11.51619613, 10.08768024, 12.89468231],\n",
       "       [10.1181102 , 11.75764503, 10.8170081 , 11.42941186]])"
      ]
     },
     "execution_count": 59,
     "metadata": {},
     "output_type": "execute_result"
    }
   ],
   "source": [
    "amp_noise = my_noise + 11\n",
    "amp_noise"
   ]
  },
  {
   "cell_type": "markdown",
   "id": "5d2d6710",
   "metadata": {},
   "source": [
    "Let's see which ones go to 11!"
   ]
  },
  {
   "cell_type": "code",
   "execution_count": 60,
   "id": "c0debf95",
   "metadata": {},
   "outputs": [
    {
     "data": {
      "text/plain": [
       "array([[False, False,  True,  True],\n",
       "       [False,  True, False, False],\n",
       "       [False,  True, False,  True],\n",
       "       [False,  True, False,  True]])"
      ]
     },
     "execution_count": 60,
     "metadata": {},
     "output_type": "execute_result"
    }
   ],
   "source": [
    "amp_noise >= 11"
   ]
  },
  {
   "cell_type": "markdown",
   "id": "fa75eee6",
   "metadata": {},
   "source": [
    "If arrays are the same size, we can do element-by-element things easily."
   ]
  },
  {
   "cell_type": "markdown",
   "id": "13ae809e",
   "metadata": {},
   "source": [
    "Which elements of the Gaussian noise are greater than the corresponding elements of the uniform noise?"
   ]
  },
  {
   "cell_type": "code",
   "execution_count": 61,
   "id": "f9dec07f",
   "metadata": {},
   "outputs": [
    {
     "data": {
      "text/plain": [
       "array([[False, False,  True, False],\n",
       "       [False,  True, False, False],\n",
       "       [False,  True, False,  True],\n",
       "       [False,  True, False, False]])"
      ]
     },
     "execution_count": 61,
     "metadata": {},
     "output_type": "execute_result"
    }
   ],
   "source": [
    "my_noise > unif_noise"
   ]
  },
  {
   "cell_type": "markdown",
   "id": "b1d77624",
   "metadata": {},
   "source": [
    "Add our Gaussian and integer noise element-by-element:"
   ]
  },
  {
   "cell_type": "code",
   "execution_count": 62,
   "id": "3bf6d86c",
   "metadata": {},
   "outputs": [
    {
     "data": {
      "text/plain": [
       "array([[ 9.33847262,  7.78630687, 10.55039828,  1.6460623 ],\n",
       "       [ 3.16870678,  8.57561069,  9.72128438,  8.30933418],\n",
       "       [ 0.06887623,  9.51619613,  8.08768024, 10.89468231],\n",
       "       [ 6.1181102 ,  4.75764503,  6.8170081 ,  6.42941186]])"
      ]
     },
     "execution_count": 62,
     "metadata": {},
     "output_type": "execute_result"
    }
   ],
   "source": [
    "my_noise + int_noise"
   ]
  },
  {
   "cell_type": "markdown",
   "id": "aa5c9111",
   "metadata": {},
   "source": [
    "Divide our identity matrix by our integer noise – everything off the main diagonal should be zero..."
   ]
  },
  {
   "cell_type": "code",
   "execution_count": 63,
   "id": "82896522",
   "metadata": {},
   "outputs": [
    {
     "data": {
      "text/plain": [
       "array([[0.1       , 0.        , 0.        , 0.        ],\n",
       "       [0.        , 0.14285714, 0.        , 0.        ],\n",
       "       [0.        , 0.        , 0.11111111, 0.        ],\n",
       "       [0.        , 0.        , 0.        , 0.16666667]])"
      ]
     },
     "execution_count": 63,
     "metadata": {},
     "output_type": "execute_result"
    }
   ],
   "source": [
    "aye / int_noise"
   ]
  },
  {
   "cell_type": "markdown",
   "id": "751d506e",
   "metadata": {},
   "source": [
    "---"
   ]
  },
  {
   "cell_type": "markdown",
   "id": "244b5f84",
   "metadata": {},
   "source": [
    "In the cell below, make a 10x5 matrix containing normally distributed random numbers with a mean of about 100 and a standard deviation of about 15 using vectorized operations."
   ]
  },
  {
   "cell_type": "code",
   "execution_count": 64,
   "id": "dbdb6470",
   "metadata": {},
   "outputs": [
    {
     "name": "stdout",
     "output_type": "stream",
     "text": [
      "Matrix with normally distributed random numbers:\n",
      " [[100.38323952 101.24866817 120.47770862  90.77938744  95.58862592]\n",
      " [104.7432445   95.86185807  82.88680663  83.92438119  98.52382872]\n",
      " [ 95.20391891 106.31591777 111.19857533 119.75226474 101.71228728]\n",
      " [107.4622222   96.65450748 104.16371039  81.89341314  93.53130012]\n",
      " [ 95.76156606 102.92618215  87.94148399  88.57437331 104.18529436]\n",
      " [111.31471829  85.02723383 130.98131033  87.43276154 115.46948309]\n",
      " [144.36848003 104.43932383  83.30121181  93.46603918  70.39975469]\n",
      " [ 79.50118895 102.0179836  133.8400307  103.90090479  97.79088292]\n",
      " [102.6651375   92.14648232  89.59239865 105.4686124  116.35350373]\n",
      " [ 96.89898169  96.66928766 107.74368643 130.79085725  90.68109877]]\n"
     ]
    }
   ],
   "source": [
    "mean = 100\n",
    "std_dev = 15\n",
    "\n",
    "matrix = np.random.normal(mean, std_dev, size=(10, 5))\n",
    "\n",
    "print('Matrix with normally distributed random numbers:\\n', matrix)"
   ]
  },
  {
   "cell_type": "markdown",
   "id": "5b305e16",
   "metadata": {},
   "source": [
    "#### Making numpy sequences "
   ]
  },
  {
   "cell_type": "markdown",
   "id": "dd762ef6",
   "metadata": {},
   "source": [
    "When computing things like functions (in the math sense), we need to start by laying down an x-axis (a working domain of the function). There are two numpy functions, `arange()` and `linspace()` that make this easy for us."
   ]
  },
  {
   "cell_type": "markdown",
   "id": "c6c171b4",
   "metadata": {},
   "source": [
    "The function `arange()` allows us to specify the endpoints of our domain, and a step size (which defaults to one). We can make a sequence of the numbers one to 10 like this:"
   ]
  },
  {
   "cell_type": "code",
   "execution_count": 65,
   "id": "45ebba71",
   "metadata": {},
   "outputs": [
    {
     "name": "stdout",
     "output_type": "stream",
     "text": [
      "my x axis is: \n",
      " [ 1  2  3  4  5  6  7  8  9 10]\n"
     ]
    }
   ],
   "source": [
    "my_domain = np.arange(1,11)\n",
    "print(f'my x axis is: \\n {my_domain}')"
   ]
  },
  {
   "cell_type": "markdown",
   "id": "9542e218",
   "metadata": {},
   "source": [
    "We can also specify a step size with a third argument. Like this:"
   ]
  },
  {
   "cell_type": "code",
   "execution_count": 66,
   "id": "e99ec71e",
   "metadata": {},
   "outputs": [
    {
     "name": "stdout",
     "output_type": "stream",
     "text": [
      "my x axis is: \n",
      " [1 3 5 7 9]\n"
     ]
    }
   ],
   "source": [
    "my_domain = np.arange(1,11,2)\n",
    "print(f'my x axis is: \\n {my_domain}')"
   ]
  },
  {
   "cell_type": "markdown",
   "id": "2ba975b0",
   "metadata": {},
   "source": [
    "The function `linspace()` is similar, but allows us to specify the number of numbers we need, and it figures out the step size for us. Like this:"
   ]
  },
  {
   "cell_type": "code",
   "execution_count": 67,
   "id": "1c207f9b",
   "metadata": {},
   "outputs": [
    {
     "name": "stdout",
     "output_type": "stream",
     "text": [
      "my x axis is: \n",
      " [ 1.          2.11111111  3.22222222  4.33333333  5.44444444  6.55555556\n",
      "  7.66666667  8.77777778  9.88888889 11.        ]\n"
     ]
    }
   ],
   "source": [
    "my_domain = np.linspace(1,11,10)\n",
    "print(f'my x axis is: \\n {my_domain}')"
   ]
  },
  {
   "cell_type": "markdown",
   "id": "2925311c",
   "metadata": {},
   "source": [
    "If we look at the shape of the object created by either `arange()` or `linspace()`, we see that they are 1D:"
   ]
  },
  {
   "cell_type": "code",
   "execution_count": 68,
   "id": "62bd63e4",
   "metadata": {},
   "outputs": [
    {
     "data": {
      "text/plain": [
       "(10,)"
      ]
     },
     "execution_count": 68,
     "metadata": {},
     "output_type": "execute_result"
    }
   ],
   "source": [
    "my_domain.shape"
   ]
  },
  {
   "cell_type": "markdown",
   "id": "dc577220",
   "metadata": {},
   "source": [
    "Note that there is only one dimension, so we only need a single index to access a value:"
   ]
  },
  {
   "cell_type": "code",
   "execution_count": 69,
   "id": "a67e5b63",
   "metadata": {},
   "outputs": [
    {
     "data": {
      "text/plain": [
       "4.333333333333334"
      ]
     },
     "execution_count": 69,
     "metadata": {},
     "output_type": "execute_result"
    }
   ],
   "source": [
    "my_domain[3]"
   ]
  },
  {
   "cell_type": "markdown",
   "id": "4fd4a667",
   "metadata": {},
   "source": [
    "We can turn this into either a row vector or a column vector by adding a second dimension. Adding a new dimension will make it, technically, a matrix – a matrix with only one column or one row, respectively."
   ]
  },
  {
   "cell_type": "code",
   "execution_count": 70,
   "id": "87eec028",
   "metadata": {},
   "outputs": [
    {
     "name": "stdout",
     "output_type": "stream",
     "text": [
      "my x axis row vector is: \n",
      " [[ 1.          2.11111111  3.22222222  4.33333333  5.44444444  6.55555556\n",
      "   7.66666667  8.77777778  9.88888889 11.        ]]\n"
     ]
    }
   ],
   "source": [
    "my_domain_row = my_domain[np.newaxis,:]\n",
    "print(f'my x axis row vector is: \\n {my_domain_row}')"
   ]
  },
  {
   "cell_type": "markdown",
   "id": "08dfeba1",
   "metadata": {},
   "source": [
    "This looks the same, but let's check its shape:"
   ]
  },
  {
   "cell_type": "code",
   "execution_count": 71,
   "id": "35650660",
   "metadata": {},
   "outputs": [
    {
     "data": {
      "text/plain": [
       "(1, 10)"
      ]
     },
     "execution_count": 71,
     "metadata": {},
     "output_type": "execute_result"
    }
   ],
   "source": [
    "my_domain_row.shape"
   ]
  },
  {
   "cell_type": "markdown",
   "id": "6b10b740",
   "metadata": {},
   "source": [
    "So now it has 1 row and 10 columns. We therefore use a row *and* a column index to get a value."
   ]
  },
  {
   "cell_type": "code",
   "execution_count": 72,
   "id": "19628248",
   "metadata": {},
   "outputs": [
    {
     "data": {
      "text/plain": [
       "4.333333333333334"
      ]
     },
     "execution_count": 72,
     "metadata": {},
     "output_type": "execute_result"
    }
   ],
   "source": [
    "my_domain_row[0, 3]"
   ]
  },
  {
   "cell_type": "markdown",
   "id": "317b39e7",
   "metadata": {},
   "source": [
    "---"
   ]
  },
  {
   "cell_type": "markdown",
   "id": "ddbbaa58",
   "metadata": {},
   "source": [
    "In the cell below, make a column vector out of `my_domain`, check the shape, and get the third entry."
   ]
  },
  {
   "cell_type": "code",
   "execution_count": 73,
   "id": "b485b2cc",
   "metadata": {},
   "outputs": [
    {
     "name": "stdout",
     "output_type": "stream",
     "text": [
      "Shape of column vector: (10, 1)\n",
      "Third entry of column vector: 3\n"
     ]
    }
   ],
   "source": [
    "# define domain using np.arange()\n",
    "my_domain = np.arange(1, 11)\n",
    "\n",
    "# convert 1D array to column vector\n",
    "my_domain_column = my_domain[:, np.newaxis]\n",
    "\n",
    "# check shape of column vector\n",
    "print('Shape of column vector:', my_domain_column.shape)\n",
    "\n",
    "# get third entry of column vector\n",
    "third_entry = my_domain_column[2, 0]\n",
    "print('Third entry of column vector:', third_entry)"
   ]
  },
  {
   "cell_type": "markdown",
   "id": "da5b5975",
   "metadata": {},
   "source": [
    "#### Indexing cells "
   ]
  },
  {
   "cell_type": "markdown",
   "id": "1b7e1c76",
   "metadata": {},
   "source": [
    "Cells and subsets of numpy arrays are accessed – \"indexed\" – much like Python lists and tuples are."
   ]
  },
  {
   "cell_type": "markdown",
   "id": "bca2a1e6",
   "metadata": {},
   "source": [
    "We've already done a fair amount of indexing, but let's get a bit more flexible. "
   ]
  },
  {
   "cell_type": "markdown",
   "id": "debec3a5",
   "metadata": {},
   "source": [
    "#### Indexing rows and columns"
   ]
  },
  {
   "cell_type": "markdown",
   "id": "d2aa019a",
   "metadata": {},
   "source": [
    "We can fetch entire rows or columns using the the colon, `:`. Let's try this on our `my_noise` array. First, let's look at it again:"
   ]
  },
  {
   "cell_type": "code",
   "execution_count": 74,
   "id": "cd9a1480",
   "metadata": {},
   "outputs": [
    {
     "name": "stdout",
     "output_type": "stream",
     "text": [
      "[[-0.66152738 -1.21369313  0.55039828  0.6460623 ]\n",
      " [-0.83129322  1.57561069 -0.27871562 -0.69066582]\n",
      " [-1.93112377  0.51619613 -0.91231976  1.89468231]\n",
      " [-0.8818898   0.75764503 -0.1829919   0.42941186]]\n"
     ]
    }
   ],
   "source": [
    "print(my_noise)"
   ]
  },
  {
   "cell_type": "markdown",
   "id": "14fee358",
   "metadata": {},
   "source": [
    "Now let's get the first column:"
   ]
  },
  {
   "cell_type": "code",
   "execution_count": 75,
   "id": "8d2f2996",
   "metadata": {},
   "outputs": [
    {
     "data": {
      "text/plain": [
       "array([-0.66152738, -0.83129322, -1.93112377, -0.8818898 ])"
      ]
     },
     "execution_count": 75,
     "metadata": {},
     "output_type": "execute_result"
    }
   ],
   "source": [
    "my_noise[:,0]"
   ]
  },
  {
   "cell_type": "markdown",
   "id": "b815409f",
   "metadata": {},
   "source": [
    "The colon means \"everything on this dimension\", so the above command means \"get all the rows in the first column of `my_noise`."
   ]
  },
  {
   "cell_type": "markdown",
   "id": "7b7026ee",
   "metadata": {},
   "source": [
    "---"
   ]
  },
  {
   "cell_type": "markdown",
   "id": "9c31284b",
   "metadata": {},
   "source": [
    "In the cell below, get the second (index = 1) row of data."
   ]
  },
  {
   "cell_type": "code",
   "execution_count": 76,
   "id": "a53123cf",
   "metadata": {},
   "outputs": [
    {
     "data": {
      "text/plain": [
       "array([-0.83129322,  1.57561069, -0.27871562, -0.69066582])"
      ]
     },
     "execution_count": 76,
     "metadata": {},
     "output_type": "execute_result"
    }
   ],
   "source": [
    "second_row = my_noise[1, :]\n",
    "second_row"
   ]
  },
  {
   "cell_type": "markdown",
   "id": "0dc0108b",
   "metadata": {},
   "source": [
    "Now check the shape in the cell below."
   ]
  },
  {
   "cell_type": "code",
   "execution_count": 77,
   "id": "3fcf7fa9",
   "metadata": {},
   "outputs": [
    {
     "data": {
      "text/plain": [
       "(4,)"
      ]
     },
     "execution_count": 77,
     "metadata": {},
     "output_type": "execute_result"
    }
   ],
   "source": [
    "second_row.shape"
   ]
  },
  {
   "cell_type": "markdown",
   "id": "afd48f0f",
   "metadata": {},
   "source": [
    "Now get the first row and check the shape:"
   ]
  },
  {
   "cell_type": "code",
   "execution_count": 78,
   "id": "2bb98181",
   "metadata": {},
   "outputs": [
    {
     "data": {
      "text/plain": [
       "array([[-0.66152738, -1.21369313,  0.55039828,  0.6460623 ]])"
      ]
     },
     "execution_count": 78,
     "metadata": {},
     "output_type": "execute_result"
    }
   ],
   "source": [
    "first_row = my_noise[0:1, :]\n",
    "first_row"
   ]
  },
  {
   "cell_type": "code",
   "execution_count": 79,
   "id": "8d565b28-fe7b-4a8a-89f9-0c900da2a303",
   "metadata": {},
   "outputs": [
    {
     "data": {
      "text/plain": [
       "(1, 4)"
      ]
     },
     "execution_count": 79,
     "metadata": {},
     "output_type": "execute_result"
    }
   ],
   "source": [
    "first_row.shape"
   ]
  },
  {
   "cell_type": "markdown",
   "id": "83fad52d",
   "metadata": {},
   "source": [
    "Our output in both cases above is a 1D vector. So what do we do if we want to grab a column, say, preserve it as a column? Easy! We just specify a starting and stopping index. Like this:"
   ]
  },
  {
   "cell_type": "code",
   "execution_count": 80,
   "id": "672177ab",
   "metadata": {},
   "outputs": [
    {
     "data": {
      "text/plain": [
       "array([[-0.66152738],\n",
       "       [-0.83129322],\n",
       "       [-1.93112377],\n",
       "       [-0.8818898 ]])"
      ]
     },
     "execution_count": 80,
     "metadata": {},
     "output_type": "execute_result"
    }
   ],
   "source": [
    "my_noise[:,0:1]"
   ]
  },
  {
   "cell_type": "markdown",
   "id": "eea77b08",
   "metadata": {},
   "source": [
    "You can see from the output that this is a column, but check its shape in the cell below to be sure:"
   ]
  },
  {
   "cell_type": "code",
   "execution_count": 81,
   "id": "8e7c2ddf",
   "metadata": {},
   "outputs": [
    {
     "data": {
      "text/plain": [
       "(4, 4)"
      ]
     },
     "execution_count": 81,
     "metadata": {},
     "output_type": "execute_result"
    }
   ],
   "source": [
    "my_noise.shape"
   ]
  },
  {
   "cell_type": "markdown",
   "id": "8ba78d70",
   "metadata": {},
   "source": [
    "#### Indexing subsets (\"slicing\")"
   ]
  },
  {
   "cell_type": "markdown",
   "id": "28b4a604",
   "metadata": {},
   "source": [
    "What we have started doing above is called \"slicing\", which is carving out (\"slicing\") subsets of data from an array.\n",
    "\n",
    "The key to slicing is the colon, `:`, operator. "
   ]
  },
  {
   "cell_type": "markdown",
   "id": "f2f8ccce",
   "metadata": {},
   "source": [
    "Let's play with a 1D vector, `my_domain` first. Let's remind ourselves of it:"
   ]
  },
  {
   "cell_type": "code",
   "execution_count": 82,
   "id": "3d9b7b99",
   "metadata": {},
   "outputs": [
    {
     "name": "stdout",
     "output_type": "stream",
     "text": [
      "[ 1  2  3  4  5  6  7  8  9 10]\n"
     ]
    }
   ],
   "source": [
    "print(my_domain)"
   ]
  },
  {
   "cell_type": "markdown",
   "id": "79e737fa",
   "metadata": {},
   "source": [
    "If we put a number on either side, we can read as \"from the first index to the second index\":"
   ]
  },
  {
   "cell_type": "code",
   "execution_count": 83,
   "id": "d542cd71",
   "metadata": {},
   "outputs": [
    {
     "data": {
      "text/plain": [
       "array([2, 3, 4])"
      ]
     },
     "execution_count": 83,
     "metadata": {},
     "output_type": "execute_result"
    }
   ],
   "source": [
    "my_domain[1:4]"
   ]
  },
  {
   "cell_type": "markdown",
   "id": "e236a56e",
   "metadata": {},
   "source": [
    "If we just put an index on the left, we can read it as \"from the index to the end\". Like this:"
   ]
  },
  {
   "cell_type": "code",
   "execution_count": 84,
   "id": "b57ead3d",
   "metadata": {},
   "outputs": [
    {
     "data": {
      "text/plain": [
       "array([ 3,  4,  5,  6,  7,  8,  9, 10])"
      ]
     },
     "execution_count": 84,
     "metadata": {},
     "output_type": "execute_result"
    }
   ],
   "source": [
    "my_domain[2:]"
   ]
  },
  {
   "cell_type": "markdown",
   "id": "933cf16a",
   "metadata": {},
   "source": [
    "If we just put an index on the right, we can read it as \"from the beginning to the index\". Like this:"
   ]
  },
  {
   "cell_type": "code",
   "execution_count": 85,
   "id": "eac95e3a",
   "metadata": {},
   "outputs": [
    {
     "data": {
      "text/plain": [
       "array([1, 2])"
      ]
     },
     "execution_count": 85,
     "metadata": {},
     "output_type": "execute_result"
    }
   ],
   "source": [
    "my_domain[:2]"
   ]
  },
  {
   "cell_type": "markdown",
   "id": "850d3cf2",
   "metadata": {},
   "source": [
    "---"
   ]
  },
  {
   "cell_type": "markdown",
   "id": "cf2c0c7a",
   "metadata": {},
   "source": [
    "In the cell below, slice out the 3rd through 5th values of `my_domain`."
   ]
  },
  {
   "cell_type": "code",
   "execution_count": 86,
   "id": "7e696f72",
   "metadata": {},
   "outputs": [
    {
     "data": {
      "text/plain": [
       "array([3, 4, 5])"
      ]
     },
     "execution_count": 86,
     "metadata": {},
     "output_type": "execute_result"
    }
   ],
   "source": [
    "sliced_values = my_domain[2:5]\n",
    "sliced_values"
   ]
  },
  {
   "cell_type": "markdown",
   "id": "e5451d5a",
   "metadata": {},
   "source": [
    "---"
   ]
  },
  {
   "cell_type": "markdown",
   "id": "6060191f",
   "metadata": {},
   "source": [
    "The extension of slicing to a matrix is straightforward. You just do your slicing on each dimension separately."
   ]
  },
  {
   "cell_type": "markdown",
   "id": "a57d108b",
   "metadata": {},
   "source": [
    "Here are some examples of array indexing from Python for Data Analysis by Wes McKinney:\n",
    "\n",
    "![Array Indexing](images/arrayIndexing.png)"
   ]
  },
  {
   "cell_type": "markdown",
   "id": "035793ec",
   "metadata": {},
   "source": [
    "---"
   ]
  },
  {
   "cell_type": "markdown",
   "id": "7c1a5dd2",
   "metadata": {},
   "source": [
    "In the cell below, try some of these slices on `my_noise`."
   ]
  },
  {
   "cell_type": "code",
   "execution_count": 87,
   "id": "b779af8a",
   "metadata": {},
   "outputs": [
    {
     "name": "stdout",
     "output_type": "stream",
     "text": [
      "First column: [-0.66152738 -0.83129322 -1.93112377 -0.8818898 ]\n",
      "Last row: [-0.8818898   0.75764503 -0.1829919   0.42941186]\n",
      "Submatrix: [[-0.27871562 -0.69066582]\n",
      " [-0.91231976  1.89468231]\n",
      " [-0.1829919   0.42941186]]\n"
     ]
    }
   ],
   "source": [
    "print('First column:', my_noise[:, 0])\n",
    "print('Last row:', my_noise[-1, :])\n",
    "print('Submatrix:', my_noise[1:4, 2:5])"
   ]
  },
  {
   "cell_type": "markdown",
   "id": "b479a82c",
   "metadata": {},
   "source": [
    "#### Summaries of a matrix"
   ]
  },
  {
   "cell_type": "markdown",
   "id": "ad18c361",
   "metadata": {},
   "source": [
    "A numpy matrix has many methods to compute things about itself, like the sum or mean of its values."
   ]
  },
  {
   "cell_type": "markdown",
   "id": "fcdb6d45",
   "metadata": {},
   "source": [
    "Here's the sum of all the elements of my_noise:"
   ]
  },
  {
   "cell_type": "code",
   "execution_count": 88,
   "id": "26c04dba",
   "metadata": {},
   "outputs": [
    {
     "data": {
      "text/plain": [
       "-1.214213819003644"
      ]
     },
     "execution_count": 88,
     "metadata": {},
     "output_type": "execute_result"
    }
   ],
   "source": [
    "my_noise.sum()"
   ]
  },
  {
   "cell_type": "markdown",
   "id": "1ceb84f3",
   "metadata": {},
   "source": [
    "Here's the arithmetic mean:"
   ]
  },
  {
   "cell_type": "code",
   "execution_count": 89,
   "id": "a27abb4a",
   "metadata": {},
   "outputs": [
    {
     "data": {
      "text/plain": [
       "-0.07588836368772775"
      ]
     },
     "execution_count": 89,
     "metadata": {},
     "output_type": "execute_result"
    }
   ],
   "source": [
    "my_noise.mean()"
   ]
  },
  {
   "cell_type": "markdown",
   "id": "819305d2",
   "metadata": {},
   "source": [
    "In the cell below, try `mean(0)` and `mean(1)` – what do these do?"
   ]
  },
  {
   "cell_type": "code",
   "execution_count": 91,
   "id": "2350d6e8",
   "metadata": {},
   "outputs": [
    {
     "name": "stdout",
     "output_type": "stream",
     "text": [
      "[-1.07645854  0.40893968 -0.20590725  0.56987266]\n",
      "[-0.16968999 -0.05626599 -0.10814127  0.0305438 ]\n"
     ]
    }
   ],
   "source": [
    "mean_axis_0 = my_noise.mean(axis = 0)\n",
    "mean_axis_1 = my_noise.mean(axis = 1)\n",
    "\n",
    "print(mean_axis_0)\n",
    "print(mean_axis_1)"
   ]
  },
  {
   "cell_type": "markdown",
   "id": "48689ae4",
   "metadata": {},
   "source": [
    "Describe what these do here (edit this cell).\n",
    "\n",
    "_mean(0) calculates the mean values along the columns of the matrix, while mean(1) computes the mean values along the rows_"
   ]
  },
  {
   "cell_type": "markdown",
   "id": "fa938fa8",
   "metadata": {},
   "source": [
    " In the cell below, do a dir(my_noise):"
   ]
  },
  {
   "cell_type": "code",
   "execution_count": 92,
   "id": "29fde8e9",
   "metadata": {},
   "outputs": [
    {
     "data": {
      "text/plain": [
       "['T',\n",
       " '__abs__',\n",
       " '__add__',\n",
       " '__and__',\n",
       " '__array__',\n",
       " '__array_finalize__',\n",
       " '__array_function__',\n",
       " '__array_interface__',\n",
       " '__array_prepare__',\n",
       " '__array_priority__',\n",
       " '__array_struct__',\n",
       " '__array_ufunc__',\n",
       " '__array_wrap__',\n",
       " '__bool__',\n",
       " '__class__',\n",
       " '__complex__',\n",
       " '__contains__',\n",
       " '__copy__',\n",
       " '__deepcopy__',\n",
       " '__delattr__',\n",
       " '__delitem__',\n",
       " '__dir__',\n",
       " '__divmod__',\n",
       " '__doc__',\n",
       " '__eq__',\n",
       " '__float__',\n",
       " '__floordiv__',\n",
       " '__format__',\n",
       " '__ge__',\n",
       " '__getattribute__',\n",
       " '__getitem__',\n",
       " '__gt__',\n",
       " '__hash__',\n",
       " '__iadd__',\n",
       " '__iand__',\n",
       " '__ifloordiv__',\n",
       " '__ilshift__',\n",
       " '__imatmul__',\n",
       " '__imod__',\n",
       " '__imul__',\n",
       " '__index__',\n",
       " '__init__',\n",
       " '__init_subclass__',\n",
       " '__int__',\n",
       " '__invert__',\n",
       " '__ior__',\n",
       " '__ipow__',\n",
       " '__irshift__',\n",
       " '__isub__',\n",
       " '__iter__',\n",
       " '__itruediv__',\n",
       " '__ixor__',\n",
       " '__le__',\n",
       " '__len__',\n",
       " '__lshift__',\n",
       " '__lt__',\n",
       " '__matmul__',\n",
       " '__mod__',\n",
       " '__mul__',\n",
       " '__ne__',\n",
       " '__neg__',\n",
       " '__new__',\n",
       " '__or__',\n",
       " '__pos__',\n",
       " '__pow__',\n",
       " '__radd__',\n",
       " '__rand__',\n",
       " '__rdivmod__',\n",
       " '__reduce__',\n",
       " '__reduce_ex__',\n",
       " '__repr__',\n",
       " '__rfloordiv__',\n",
       " '__rlshift__',\n",
       " '__rmatmul__',\n",
       " '__rmod__',\n",
       " '__rmul__',\n",
       " '__ror__',\n",
       " '__rpow__',\n",
       " '__rrshift__',\n",
       " '__rshift__',\n",
       " '__rsub__',\n",
       " '__rtruediv__',\n",
       " '__rxor__',\n",
       " '__setattr__',\n",
       " '__setitem__',\n",
       " '__setstate__',\n",
       " '__sizeof__',\n",
       " '__str__',\n",
       " '__sub__',\n",
       " '__subclasshook__',\n",
       " '__truediv__',\n",
       " '__xor__',\n",
       " 'all',\n",
       " 'any',\n",
       " 'argmax',\n",
       " 'argmin',\n",
       " 'argpartition',\n",
       " 'argsort',\n",
       " 'astype',\n",
       " 'base',\n",
       " 'byteswap',\n",
       " 'choose',\n",
       " 'clip',\n",
       " 'compress',\n",
       " 'conj',\n",
       " 'conjugate',\n",
       " 'copy',\n",
       " 'ctypes',\n",
       " 'cumprod',\n",
       " 'cumsum',\n",
       " 'data',\n",
       " 'diagonal',\n",
       " 'dot',\n",
       " 'dtype',\n",
       " 'dump',\n",
       " 'dumps',\n",
       " 'fill',\n",
       " 'flags',\n",
       " 'flat',\n",
       " 'flatten',\n",
       " 'getfield',\n",
       " 'imag',\n",
       " 'item',\n",
       " 'itemset',\n",
       " 'itemsize',\n",
       " 'max',\n",
       " 'mean',\n",
       " 'min',\n",
       " 'nbytes',\n",
       " 'ndim',\n",
       " 'newbyteorder',\n",
       " 'nonzero',\n",
       " 'partition',\n",
       " 'prod',\n",
       " 'ptp',\n",
       " 'put',\n",
       " 'ravel',\n",
       " 'real',\n",
       " 'repeat',\n",
       " 'reshape',\n",
       " 'resize',\n",
       " 'round',\n",
       " 'searchsorted',\n",
       " 'setfield',\n",
       " 'setflags',\n",
       " 'shape',\n",
       " 'size',\n",
       " 'sort',\n",
       " 'squeeze',\n",
       " 'std',\n",
       " 'strides',\n",
       " 'sum',\n",
       " 'swapaxes',\n",
       " 'take',\n",
       " 'tobytes',\n",
       " 'tofile',\n",
       " 'tolist',\n",
       " 'tostring',\n",
       " 'trace',\n",
       " 'transpose',\n",
       " 'var',\n",
       " 'view']"
      ]
     },
     "execution_count": 92,
     "metadata": {},
     "output_type": "execute_result"
    }
   ],
   "source": [
    "dir(my_noise)"
   ]
  },
  {
   "cell_type": "markdown",
   "id": "37880f4e",
   "metadata": {},
   "source": [
    "Now, in the cell below, see if you can use a method of `my_noise` to round all the numbers to the nearest integer:"
   ]
  },
  {
   "cell_type": "code",
   "execution_count": 93,
   "id": "735b8287",
   "metadata": {},
   "outputs": [
    {
     "data": {
      "text/plain": [
       "array([[-1., -1.,  1.,  1.],\n",
       "       [-1.,  2., -0., -1.],\n",
       "       [-2.,  1., -1.,  2.],\n",
       "       [-1.,  1., -0.,  0.]])"
      ]
     },
     "execution_count": 93,
     "metadata": {},
     "output_type": "execute_result"
    }
   ],
   "source": [
    "np.round(my_noise)"
   ]
  }
 ],
 "metadata": {
  "kernelspec": {
   "display_name": "Python 3 (ipykernel)",
   "language": "python",
   "name": "python3"
  },
  "language_info": {
   "codemirror_mode": {
    "name": "ipython",
    "version": 3
   },
   "file_extension": ".py",
   "mimetype": "text/x-python",
   "name": "python",
   "nbconvert_exporter": "python",
   "pygments_lexer": "ipython3",
   "version": "3.9.13"
  }
 },
 "nbformat": 4,
 "nbformat_minor": 5
}
